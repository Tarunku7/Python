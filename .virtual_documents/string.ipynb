# String Data Type
# String Constructor is str()
# string literal is '', "", """""", ''''''
# string is a set of sequance of character.
# string support indxting
# string support slicing
# stiring support concatination
# string is immutable of hashable data type
# string has variable methods


a= str()   # using constructor created a empty string
a


# using literal create empty string
b=''
print(type(b))
b


c=""
print(type(c))
c


d=""""""
print(type(d))
d


e=''''''
print(type(e))
e


print("tarun")
print("hello world")
10


# string support indxting
a="Tarun"
print(a)
print(type(a))


b='Tarun'
print(b)
print(type(b))


c="""Tarun"""
print(type(c))
print(c)


d='''Tarun'''
print(d)
print(type(d))


print("I am Tarun Mann")
print('I am Tarun Mann')


print("""I 
      am 
                    Tarun Mann""")
print('''I am 
        Tarun 
                Mann''')


# string is a set of sequance of character.
# string support indxting

a="krishna"


print(a)


print(a[0])


print(a[-7])


a.index("k")


# string support slicing



print(a)


a[1:4]


print(a[1:5:1])


print(a[1:6:1])


print(a[1::1])


print(a[1::])


print(a[1:-2:])


print(a[-1:-8:-1])


print(a[::-1])


a[::]


# stiring support concatination

first="Tarun"
second="Mann"


print(first + second) # This is concationation.


print("tarun","Mann",sep="")  # This is not concatination.


# Methods of String

a="krishna"
print(id(a))


b=a.upper()
print(id(b))
print(b)


a.capitalize()


print(a)


a="TarUnkU7@gmail.com"


a.upper()


a.capitalize()


a.casefold()


print(a)


a.lower()


print(a)


a="krishna"


print(a)


a



a.upper()
