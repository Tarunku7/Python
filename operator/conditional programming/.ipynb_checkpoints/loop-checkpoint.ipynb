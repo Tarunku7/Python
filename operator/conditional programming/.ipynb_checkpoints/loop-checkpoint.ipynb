{
 "cells": [
  {
   "cell_type": "raw",
   "id": "1888f7e2-9e95-4a45-8a27-b407479edd37",
   "metadata": {},
   "source": [
    "# Loop\n",
    "    > for loop\n",
    "        > nested for lood\n",
    "        > single for loop with pattern\n",
    "        > nested for loop with pattern\n",
    "        > list comprehension\n",
    "        > set comprehension\n",
    "        > dictionary comprehension\n",
    "        > tuple comprehension (generator)\n",
    "        > frozenset comprehension\n",
    "        > break\n",
    "        > continue\n",
    "        > pass\n",
    "    > while loop\n",
    "        > simple while loop\n",
    "        > nested while loop\n",
    "        > pattern using simple while loop\n",
    "        > pattern using nested while loop\n",
    "        > break\n",
    "        > continue\n",
    "        > pass"
   ]
  },
  {
   "cell_type": "raw",
   "id": "faeb2315-c48a-472b-9cfa-e4160df0361c",
   "metadata": {},
   "source": [
    "#  Q- Why we have two loops and what is the different in both loop?\n",
    "#  A- Foor loop :- When you know the number of iteration.\n",
    "      While loop:- When we don't know the number of iteration"
   ]
  },
  {
   "cell_type": "raw",
   "id": "51416370-e47a-42fc-80c7-da5ee52fa94f",
   "metadata": {},
   "source": [
    "# What is iterable?\n",
    "    A data type which contain def --iter-- called iterable data type"
   ]
  },
  {
   "cell_type": "raw",
   "id": "43160cde-6fdc-4a0d-9721-a730e6723d7b",
   "metadata": {},
   "source": [
    "# Example: string- str(), list-[], tuple(), set{}, dictionary-dict({}), frozenset()"
   ]
  },
  {
   "cell_type": "raw",
   "id": "582d4488-d74d-4f5b-b08f-40731d4202fb",
   "metadata": {},
   "source": [
    "# what is iterable and how will be detect?\n",
    "  proof-> --itr--\n",
    "ex: str():- for loop or while loop can run inside string data type.\n",
    "\n",
    "    after placing element inside any data type --iter-- is seen then it is iterable."
   ]
  },
  {
   "cell_type": "markdown",
   "id": "6f170259-6fbb-4199-9fae-98bdd6531ff2",
   "metadata": {},
   "source": [
    "# only mantion the number inside the \"range()\" funciton."
   ]
  },
  {
   "cell_type": "code",
   "execution_count": 2,
   "id": "ac6d93a0-9d0b-4f07-819d-30a93250607f",
   "metadata": {},
   "outputs": [
    {
     "data": {
      "text/plain": [
       "range(0, 10)"
      ]
     },
     "execution_count": 2,
     "metadata": {},
     "output_type": "execute_result"
    }
   ],
   "source": [
    "range(10)"
   ]
  },
  {
   "cell_type": "code",
   "execution_count": 3,
   "id": "09b7f66d-f4f6-4da2-b0ac-6ba5745b8114",
   "metadata": {},
   "outputs": [
    {
     "data": {
      "text/plain": [
       "range(0, 10)"
      ]
     },
     "execution_count": 3,
     "metadata": {},
     "output_type": "execute_result"
    }
   ],
   "source": [
    "range(0,10)"
   ]
  },
  {
   "cell_type": "code",
   "execution_count": 5,
   "id": "deb3c1c9-c955-45c8-98b2-ed46a2904cf3",
   "metadata": {},
   "outputs": [
    {
     "name": "stdout",
     "output_type": "stream",
     "text": [
      "0\n",
      "1\n",
      "2\n",
      "3\n",
      "4\n",
      "5\n",
      "6\n",
      "7\n",
      "8\n",
      "9\n"
     ]
    }
   ],
   "source": [
    "for i in range(10):     # i is initialise\n",
    "    print(i)"
   ]
  },
  {
   "cell_type": "code",
   "execution_count": 17,
   "id": "1683f550-7c5a-44df-94b1-3a1f1751a874",
   "metadata": {},
   "outputs": [
    {
     "name": "stdout",
     "output_type": "stream",
     "text": [
      "0, 1, 2, 3, 4, 5, 6, 7, 8, 9, "
     ]
    }
   ],
   "source": [
    "for i in range(0,10):\n",
    "    print(i, sep=\" \",end=\", \" )"
   ]
  },
  {
   "cell_type": "code",
   "execution_count": 18,
   "id": "5bfe8dc0-5d10-4002-9345-656813bae626",
   "metadata": {},
   "outputs": [],
   "source": [
    "a=[1,2,3,4,5,6,7,8,9]"
   ]
  },
  {
   "cell_type": "code",
   "execution_count": 19,
   "id": "599b1047-3568-46a5-ac12-f22bb68729d3",
   "metadata": {},
   "outputs": [
    {
     "name": "stdout",
     "output_type": "stream",
     "text": [
      "[1, 2, 3, 4, 5, 6, 7, 8, 9]\n"
     ]
    }
   ],
   "source": [
    "print(a)"
   ]
  },
  {
   "cell_type": "code",
   "execution_count": 24,
   "id": "7ef0acd6-503b-4069-bc1a-237be1217976",
   "metadata": {},
   "outputs": [
    {
     "name": "stdout",
     "output_type": "stream",
     "text": [
      "1\n",
      "2\n",
      "3\n",
      "4\n",
      "5\n",
      "6\n",
      "7\n",
      "8\n",
      "9\n"
     ]
    }
   ],
   "source": [
    "for i in a:\n",
    "    print(i)"
   ]
  },
  {
   "cell_type": "code",
   "execution_count": 23,
   "id": "8640727b-984f-40d9-9e2d-7302e4d1ac21",
   "metadata": {},
   "outputs": [
    {
     "name": "stdout",
     "output_type": "stream",
     "text": [
      "1\n",
      "2\n",
      "3\n",
      "4\n",
      "5\n"
     ]
    }
   ],
   "source": [
    "b=[1,2,3,4,5]\n",
    "for i in b:\n",
    "    print(i)"
   ]
  },
  {
   "cell_type": "code",
   "execution_count": 26,
   "id": "c84dfe13-544a-4c4e-8c13-46c3ef63dffd",
   "metadata": {},
   "outputs": [
    {
     "name": "stdout",
     "output_type": "stream",
     "text": [
      "1\n",
      "2\n",
      "3\n",
      "4\n",
      "5\n"
     ]
    }
   ],
   "source": [
    "for i in [1,2,3,4,5]:\n",
    "    print(i)"
   ]
  },
  {
   "cell_type": "code",
   "execution_count": 27,
   "id": "e6b53c8a-56b9-43f9-995c-4c7d1b26abb9",
   "metadata": {},
   "outputs": [
    {
     "name": "stdout",
     "output_type": "stream",
     "text": [
      "0\n",
      "1\n",
      "2\n",
      "3\n",
      "4\n",
      "5\n",
      "6\n",
      "7\n",
      "8\n",
      "9\n"
     ]
    }
   ],
   "source": [
    "for i in range(10):\n",
    "    print(i)"
   ]
  },
  {
   "cell_type": "code",
   "execution_count": 1,
   "id": "0ec93111-bd01-44e3-9ae3-3c73f0ebc07d",
   "metadata": {},
   "outputs": [
    {
     "name": "stdout",
     "output_type": "stream",
     "text": [
      "0 2 4 6 8 "
     ]
    }
   ],
   "source": [
    "for i in range(0,10,2):\n",
    "    print(i, end=\" \")"
   ]
  },
  {
   "cell_type": "code",
   "execution_count": 36,
   "id": "a4e59eeb-4c13-4a35-8311-6d65dee0936e",
   "metadata": {},
   "outputs": [
    {
     "name": "stdout",
     "output_type": "stream",
     "text": [
      "0 & Hello World2 & Hello World4 & Hello World6 & Hello World8 & Hello World"
     ]
    }
   ],
   "source": [
    "for i in range(0,10,2):\n",
    "    print(i,\"Hello World\",sep=\" & \",end=\"\")"
   ]
  },
  {
   "cell_type": "code",
   "execution_count": 43,
   "id": "13322256-8741-4870-ab65-315398c737cb",
   "metadata": {},
   "outputs": [
    {
     "name": "stdout",
     "output_type": "stream",
     "text": [
      "0 I am Tarun\n",
      "3 I am Tarun\n",
      "6 I am Tarun\n",
      "9 I am Tarun\n"
     ]
    }
   ],
   "source": [
    "for i in range (0,10,3):\n",
    "    print(i,\"I am Tarun\")"
   ]
  },
  {
   "cell_type": "code",
   "execution_count": 44,
   "id": "1afe5393-7325-4956-80a8-ab831c57bc49",
   "metadata": {},
   "outputs": [
    {
     "name": "stdout",
     "output_type": "stream",
     "text": [
      "1 tarun\n",
      "2 tarun\n",
      "3 tarun\n",
      "4 tarun\n",
      "5 tarun\n"
     ]
    }
   ],
   "source": [
    "for i in range(1,6):\n",
    "    print(i, \"tarun\")"
   ]
  },
  {
   "cell_type": "code",
   "execution_count": 46,
   "id": "efe48368-cfcb-436d-98a8-37afdce258b0",
   "metadata": {},
   "outputs": [
    {
     "name": "stdout",
     "output_type": "stream",
     "text": [
      "6 tarun\n",
      "5 tarun\n",
      "4 tarun\n",
      "3 tarun\n",
      "2 tarun\n",
      "1 tarun\n"
     ]
    }
   ],
   "source": [
    "for i in range(6,0,-1):\n",
    "    print(i, \"tarun\")"
   ]
  },
  {
   "cell_type": "code",
   "execution_count": 47,
   "id": "9a64b8d9-afaa-443c-b052-ff57ab250f19",
   "metadata": {},
   "outputs": [
    {
     "name": "stdout",
     "output_type": "stream",
     "text": [
      "6 tarun\n",
      "5 tarun\n",
      "4 tarun\n",
      "3 tarun\n",
      "2 tarun\n",
      "1 tarun\n"
     ]
    }
   ],
   "source": [
    "for i in range(0,6):\n",
    "    print((6-i), \"tarun\")"
   ]
  },
  {
   "cell_type": "code",
   "execution_count": 48,
   "id": "739ddc7a-68f3-45b3-ab36-c4fa0649865d",
   "metadata": {},
   "outputs": [
    {
     "name": "stdout",
     "output_type": "stream",
     "text": [
      "T\n",
      "a\n",
      "r\n",
      "u\n",
      "n\n"
     ]
    }
   ],
   "source": [
    "for i in \"Tarun\":     \n",
    "    print(i)"
   ]
  },
  {
   "cell_type": "code",
   "execution_count": 63,
   "id": "03f8ea0c-0166-4f2d-a178-dd22b8967ed2",
   "metadata": {},
   "outputs": [
    {
     "data": {
      "text/plain": [
       "['__and__',\n",
       " '__class__',\n",
       " '__class_getitem__',\n",
       " '__contains__',\n",
       " '__delattr__',\n",
       " '__dir__',\n",
       " '__doc__',\n",
       " '__eq__',\n",
       " '__format__',\n",
       " '__ge__',\n",
       " '__getattribute__',\n",
       " '__getstate__',\n",
       " '__gt__',\n",
       " '__hash__',\n",
       " '__init__',\n",
       " '__init_subclass__',\n",
       " '__iter__',\n",
       " '__le__',\n",
       " '__len__',\n",
       " '__lt__',\n",
       " '__ne__',\n",
       " '__new__',\n",
       " '__or__',\n",
       " '__rand__',\n",
       " '__reduce__',\n",
       " '__reduce_ex__',\n",
       " '__repr__',\n",
       " '__ror__',\n",
       " '__rsub__',\n",
       " '__rxor__',\n",
       " '__setattr__',\n",
       " '__sizeof__',\n",
       " '__str__',\n",
       " '__sub__',\n",
       " '__subclasshook__',\n",
       " '__xor__',\n",
       " 'copy',\n",
       " 'difference',\n",
       " 'intersection',\n",
       " 'isdisjoint',\n",
       " 'issubset',\n",
       " 'issuperset',\n",
       " 'symmetric_difference',\n",
       " 'union']"
      ]
     },
     "execution_count": 63,
     "metadata": {},
     "output_type": "execute_result"
    }
   ],
   "source": [
    "a=frozenset()\n",
    "dir(a)"
   ]
  },
  {
   "cell_type": "code",
   "execution_count": 64,
   "id": "62556b4c-965f-4d6d-8268-e77394814b0c",
   "metadata": {},
   "outputs": [
    {
     "name": "stdout",
     "output_type": "stream",
     "text": [
      "1\n",
      "2\n",
      "3\n",
      "4\n",
      "5\n"
     ]
    }
   ],
   "source": [
    "for i in {1,2,3,4,5}:\n",
    "    print(i)"
   ]
  },
  {
   "cell_type": "code",
   "execution_count": 66,
   "id": "deeec937-947a-4b4d-a814-d0501ace595f",
   "metadata": {},
   "outputs": [
    {
     "name": "stdout",
     "output_type": "stream",
     "text": [
      "1\n",
      "2\n",
      "3\n",
      "4\n",
      "5\n"
     ]
    }
   ],
   "source": [
    "for i in (1,2,3,4,5):\n",
    "    print(i)"
   ]
  },
  {
   "cell_type": "code",
   "execution_count": 72,
   "id": "96b90ba8-1110-4993-a2c6-28ab0b5cf0d7",
   "metadata": {},
   "outputs": [
    {
     "name": "stdout",
     "output_type": "stream",
     "text": [
      "1\n",
      "2\n",
      "3\n",
      "4\n",
      "5\n"
     ]
    }
   ],
   "source": [
    "for i in frozenset({1,2,3,4,5}):\n",
    "    print(i)"
   ]
  },
  {
   "cell_type": "code",
   "execution_count": 74,
   "id": "62660da5-81d5-4cb3-bc0b-ed2724ad6534",
   "metadata": {},
   "outputs": [
    {
     "name": "stdout",
     "output_type": "stream",
     "text": [
      "1\n",
      "2\n",
      "3\n"
     ]
    }
   ],
   "source": [
    "for i in {1:\"Tarun\", 2:\"Mohan\", 3:\"harsh\"}:\n",
    "    print(i)"
   ]
  },
  {
   "cell_type": "code",
   "execution_count": 81,
   "id": "d640cefc-5588-41f3-8202-39d4c6ed91c7",
   "metadata": {},
   "outputs": [
    {
     "name": "stdout",
     "output_type": "stream",
     "text": [
      "Tarun\n",
      "Mohan\n",
      "harsh\n"
     ]
    }
   ],
   "source": [
    "for i in {1:\"Tarun\", 2:\"Mohan\", 3:\"harsh\"}.values():\n",
    "    print(i)"
   ]
  },
  {
   "cell_type": "code",
   "execution_count": 82,
   "id": "47110250-6b79-4e00-acdd-79fca2d2c295",
   "metadata": {},
   "outputs": [
    {
     "name": "stdout",
     "output_type": "stream",
     "text": [
      "(1, 'Tarun')\n",
      "(2, 'Mohan')\n",
      "(3, 'harsh')\n"
     ]
    }
   ],
   "source": [
    "for i in {1:\"Tarun\", 2:\"Mohan\", 3:\"harsh\"}.items():\n",
    "    print(i)"
   ]
  },
  {
   "cell_type": "markdown",
   "id": "6197ded2-b531-4204-a477-121f0d8e1262",
   "metadata": {},
   "source": [
    "# Patern"
   ]
  },
  {
   "cell_type": "code",
   "execution_count": 83,
   "id": "e63b276b-d17d-4bbd-ae1a-ca2df6d4d8bd",
   "metadata": {},
   "outputs": [
    {
     "name": "stdout",
     "output_type": "stream",
     "text": [
      "*\n",
      "**\n",
      "***\n",
      "****\n",
      "*****\n"
     ]
    }
   ],
   "source": [
    "for i in range(0,5):\n",
    "    print(\"*\"*(i+1))"
   ]
  },
  {
   "cell_type": "code",
   "execution_count": 84,
   "id": "a423e9f2-46e9-400e-9aab-424f3cbc877d",
   "metadata": {},
   "outputs": [
    {
     "name": "stdout",
     "output_type": "stream",
     "text": [
      "*\n",
      "**\n",
      "***\n",
      "****\n",
      "*****\n"
     ]
    }
   ],
   "source": [
    "print(\"*\"*1)\n",
    "print(\"*\"*2)\n",
    "print(\"*\"*3)\n",
    "print(\"*\"*4)\n",
    "print(\"*\"*5)"
   ]
  },
  {
   "cell_type": "code",
   "execution_count": 86,
   "id": "835b1dfe-39dc-4ae2-939e-0425cd6b72f7",
   "metadata": {},
   "outputs": [
    {
     "name": "stdout",
     "output_type": "stream",
     "text": [
      "*****\n",
      "****\n",
      "***\n",
      "**\n",
      "*\n"
     ]
    }
   ],
   "source": [
    "print(\"*\"*5)\n",
    "print(\"*\"*4)\n",
    "print(\"*\"*3)\n",
    "print(\"*\"*2)\n",
    "print(\"*\"*1)"
   ]
  },
  {
   "cell_type": "code",
   "execution_count": 87,
   "id": "b60fc2dd-e9ba-498e-b5cf-d7ee8ab49037",
   "metadata": {},
   "outputs": [
    {
     "name": "stdout",
     "output_type": "stream",
     "text": [
      "*****\n",
      "****\n",
      "***\n",
      "**\n",
      "*\n"
     ]
    }
   ],
   "source": [
    "for i in range(0,5):\n",
    "    print(\"*\"*(5-i))"
   ]
  },
  {
   "cell_type": "code",
   "execution_count": 92,
   "id": "121772f2-9b47-40e1-907c-fc0d066181fc",
   "metadata": {},
   "outputs": [
    {
     "name": "stdout",
     "output_type": "stream",
     "text": [
      " *****\n",
      "  ****\n",
      "   ***\n",
      "    **\n",
      "     *\n"
     ]
    }
   ],
   "source": [
    "print(\" \"*1+\"*\"*5)\n",
    "print(\" \"*2+\"*\"*4)\n",
    "print(\" \"*3+\"*\"*3)\n",
    "print(\" \"*4+\"*\"*2)\n",
    "print(\" \"*5+\"*\"*1)"
   ]
  },
  {
   "cell_type": "code",
   "execution_count": 166,
   "id": "f92fb801-c54f-4a56-a479-c61dd25349d8",
   "metadata": {},
   "outputs": [
    {
     "name": "stdout",
     "output_type": "stream",
     "text": [
      "* * * * * \n",
      " * * * * \n",
      "  * * * \n",
      "   * * \n",
      "    * \n"
     ]
    }
   ],
   "source": [
    "for i in range(0,5):\n",
    "    print(\" \"*i+\"* \"*(5-i))"
   ]
  },
  {
   "cell_type": "code",
   "execution_count": 98,
   "id": "fd6d6e33-94d8-489d-b637-85114a51a7f4",
   "metadata": {},
   "outputs": [
    {
     "name": "stdout",
     "output_type": "stream",
     "text": [
      "     *\n",
      "    **\n",
      "   ***\n",
      "  ****\n",
      " *****\n"
     ]
    }
   ],
   "source": [
    "print(\" \"*5+\"*\"*1)\n",
    "print(\" \"*4+\"*\"*2)\n",
    "print(\" \"*3+\"*\"*3)\n",
    "print(\" \"*2+\"*\"*4)\n",
    "print(\" \"*1+\"*\"*5)"
   ]
  },
  {
   "cell_type": "code",
   "execution_count": 167,
   "id": "1347622b-3e9f-4ca8-b90c-ea939a552389",
   "metadata": {},
   "outputs": [
    {
     "name": "stdout",
     "output_type": "stream",
     "text": [
      "    * \n",
      "   * * \n",
      "  * * * \n",
      " * * * * \n",
      "* * * * * \n"
     ]
    }
   ],
   "source": [
    "for i in range(0,5):\n",
    "    print(\" \"*(4-i)+\"* \"*(i+1))"
   ]
  },
  {
   "cell_type": "code",
   "execution_count": 171,
   "id": "10942d62-d130-4b80-bff0-a5483d69c531",
   "metadata": {},
   "outputs": [
    {
     "name": "stdout",
     "output_type": "stream",
     "text": [
      "*****\n",
      " ****\n",
      "  ***\n",
      "   **\n",
      "    *\n",
      "   **\n",
      "  ***\n",
      " ****\n",
      "*****\n"
     ]
    }
   ],
   "source": [
    "for i in range(0,9):\n",
    "    if i<5:\n",
    "        print(\" \"*(i)+\"*\"*(5-i))\n",
    "    else:\n",
    "        print(\" \"*(8-i)+\"*\"*(i-3))"
   ]
  },
  {
   "cell_type": "code",
   "execution_count": 139,
   "id": "6514ae57-7f46-4c40-bff3-5835890f30de",
   "metadata": {},
   "outputs": [
    {
     "name": "stdout",
     "output_type": "stream",
     "text": [
      "*****\n",
      "****\n",
      "***\n",
      "**\n",
      "*\n",
      "**\n",
      "***\n",
      "****\n",
      "*****\n"
     ]
    }
   ],
   "source": [
    "for i in range(0,9):\n",
    "    if i<5:\n",
    "        print(\"*\"*(5-i))\n",
    "    else:\n",
    "        print(\"*\"*(i-3))\n",
    "    "
   ]
  },
  {
   "cell_type": "code",
   "execution_count": null,
   "id": "c2580cf2-69fd-4fbe-9ee0-b206aa2cc192",
   "metadata": {},
   "outputs": [],
   "source": []
  },
  {
   "cell_type": "code",
   "execution_count": 144,
   "id": "0a0a0755-6869-4273-94aa-885a03a0080b",
   "metadata": {},
   "outputs": [
    {
     "name": "stdout",
     "output_type": "stream",
     "text": [
      "*\n",
      "**\n",
      "***\n",
      "****\n",
      "*****\n",
      "****\n",
      "***\n",
      "**\n",
      "*\n"
     ]
    }
   ],
   "source": [
    "print(\"*\"*1)\n",
    "print(\"*\"*2)\n",
    "print(\"*\"*3)\n",
    "print(\"*\"*4)\n",
    "print(\"*\"*5)\n",
    "print(\"*\"*4)\n",
    "print(\"*\"*3)\n",
    "print(\"*\"*2)\n",
    "print(\"*\"*1)"
   ]
  },
  {
   "cell_type": "code",
   "execution_count": 155,
   "id": "9ba25e20-9ed4-4a22-8693-2a7aaf326cba",
   "metadata": {},
   "outputs": [
    {
     "name": "stdout",
     "output_type": "stream",
     "text": [
      "*\n",
      "**\n",
      "***\n",
      "****\n",
      "*****\n",
      "****\n",
      "***\n",
      "**\n",
      "*\n"
     ]
    }
   ],
   "source": [
    "for i in range(0,9):\n",
    "    if i<5:\n",
    "        print(\"*\"*(i+1))\n",
    "    else:\n",
    "        print(\"*\"*(9-i))"
   ]
  },
  {
   "cell_type": "code",
   "execution_count": 170,
   "id": "bbe68497-4000-4aa5-8853-1c1c5e19fb9a",
   "metadata": {},
   "outputs": [
    {
     "name": "stdout",
     "output_type": "stream",
     "text": [
      "* * * * * \n",
      " * * * * \n",
      "  * * * \n",
      "   * * \n",
      "    * \n",
      "   * * \n",
      "  * * * \n",
      " * * * * \n",
      "* * * * * \n"
     ]
    }
   ],
   "source": [
    "for i in range(0,9):\n",
    "    if i<5:\n",
    "        print(\" \"*i+\"* \"*(5-i))\n",
    "    else:\n",
    "        print(\" \"*(8-i)+\"* \"*(i-3))"
   ]
  },
  {
   "cell_type": "code",
   "execution_count": 267,
   "id": "8885c5a3-47a2-4ebf-a534-14c9e1026f56",
   "metadata": {},
   "outputs": [
    {
     "name": "stdout",
     "output_type": "stream",
     "text": [
      "    * \n",
      "   * * \n",
      "  * * * \n",
      " * * * * \n",
      "* * * * * \n",
      " * * * * \n",
      "  * * * \n",
      "   * * \n",
      "    * \n"
     ]
    }
   ],
   "source": [
    "for i in range(0,9):\n",
    "    if i<5:\n",
    "        print(\" \"*(4-i)+\"* \"*(1+i))\n",
    "    else:\n",
    "        print(\" \"*(i-4)+\"* \"*(9-i))"
   ]
  },
  {
   "cell_type": "markdown",
   "id": "2c6dc566-2c63-4b9c-ac1a-1f08ede8d3d5",
   "metadata": {},
   "source": [
    "# Pattern using nested for loop"
   ]
  },
  {
   "cell_type": "code",
   "execution_count": 10,
   "id": "9d173608-a336-402a-9ddc-c6d042b437b1",
   "metadata": {},
   "outputs": [
    {
     "name": "stdout",
     "output_type": "stream",
     "text": [
      "*****\n",
      "*****\n",
      "*****\n",
      "*****\n",
      "*****\n"
     ]
    }
   ],
   "source": [
    "for i in range(5):\n",
    "    for j in range(5):\n",
    "        print(\"*\",end=\"\")\n",
    "    print()"
   ]
  },
  {
   "cell_type": "code",
   "execution_count": 11,
   "id": "f04a956d-2419-4367-ac50-93880f2d0562",
   "metadata": {},
   "outputs": [
    {
     "name": "stdout",
     "output_type": "stream",
     "text": [
      "*\n",
      "*\n",
      "*\n",
      "*\n",
      "*\n"
     ]
    }
   ],
   "source": [
    "for i in range(5):\n",
    "    print(\"*\")"
   ]
  },
  {
   "cell_type": "code",
   "execution_count": 12,
   "id": "0530f769-0657-4448-be97-00b2e259e696",
   "metadata": {},
   "outputs": [
    {
     "name": "stdout",
     "output_type": "stream",
     "text": [
      "*****"
     ]
    }
   ],
   "source": [
    "for i in range(5):\n",
    "    print(\"*\",end=\"\")"
   ]
  },
  {
   "cell_type": "code",
   "execution_count": 15,
   "id": "35d4fd05-2aa1-4e83-b25b-e286e94a98f1",
   "metadata": {},
   "outputs": [
    {
     "name": "stdout",
     "output_type": "stream",
     "text": [
      "**********"
     ]
    }
   ],
   "source": [
    "for i in range(5):\n",
    "    print(\"*\",end=\"\")\n",
    "for i in range(5):\n",
    "    print(\"*\",end=\"\")"
   ]
  },
  {
   "cell_type": "code",
   "execution_count": 17,
   "id": "9e99b19b-e8fb-46e1-ab23-8bf4239f7268",
   "metadata": {},
   "outputs": [
    {
     "name": "stdout",
     "output_type": "stream",
     "text": [
      "*****\n",
      "*****"
     ]
    }
   ],
   "source": [
    "for i in range(5):\n",
    "    print(\"*\",end=\"\")\n",
    "print()\n",
    "for i in range(5):\n",
    "    print(\"*\",end=\"\")"
   ]
  },
  {
   "cell_type": "code",
   "execution_count": 24,
   "id": "46116b22-6086-49f8-85b0-b3cb53e97cc3",
   "metadata": {},
   "outputs": [
    {
     "name": "stdout",
     "output_type": "stream",
     "text": [
      "*\n",
      "**\n",
      "***\n",
      "****\n",
      "*****"
     ]
    }
   ],
   "source": [
    "for i in range(1):      # work is Repetation and In Technical Term it means Retendency\n",
    "    print(\"*\",end=\"\")\n",
    "print()\n",
    "for i in range(2):\n",
    "    print(\"*\",end=\"\")       \n",
    "print()\n",
    "for i in range(3):\n",
    "    print(\"*\",end=\"\")\n",
    "print()\n",
    "for i in range(4):\n",
    "    print(\"*\",end=\"\")\n",
    "print()\n",
    "for i in range(5):\n",
    "    print(\"*\",end=\"\")"
   ]
  },
  {
   "cell_type": "code",
   "execution_count": 31,
   "id": "95537948-3412-43c3-a2b6-c2e7a71f35b0",
   "metadata": {},
   "outputs": [
    {
     "name": "stdout",
     "output_type": "stream",
     "text": [
      "*\n",
      "**\n",
      "***\n",
      "****\n",
      "*****\n"
     ]
    }
   ],
   "source": [
    "for i in range(5):\n",
    "    for j in range(i+1):\n",
    "        print(\"*\",end=\"\")\n",
    "    print()"
   ]
  },
  {
   "cell_type": "code",
   "execution_count": 47,
   "id": "26f83e41-c2d0-4f00-8b6e-c05fe3d44fdd",
   "metadata": {},
   "outputs": [
    {
     "name": "stdout",
     "output_type": "stream",
     "text": [
      "*****\n",
      "****\n",
      "***\n",
      "**\n",
      "*\n"
     ]
    }
   ],
   "source": [
    "for i in range(5):\n",
    "    for j in range(5-i):\n",
    "        print(\"*\",end=\"\")\n",
    "    print()"
   ]
  },
  {
   "cell_type": "code",
   "execution_count": 53,
   "id": "013275e3-4e38-4c80-8f53-57d454380072",
   "metadata": {},
   "outputs": [
    {
     "name": "stdout",
     "output_type": "stream",
     "text": [
      "*****\n",
      "****\n",
      "***\n",
      "**\n",
      "*\n"
     ]
    }
   ],
   "source": [
    "for i in range(5):\n",
    "    for j in range(5-i):\n",
    "        print(\"*\",end=\"\")\n",
    "    print()"
   ]
  },
  {
   "cell_type": "markdown",
   "id": "204d988c-8583-4b3b-86fd-9f4da3b6e964",
   "metadata": {},
   "source": [
    "# Comprehension\n",
    "    > list comprehension\n",
    "    > set comprehension\n",
    "    > dictionary comprehension\n",
    "    > tuple comprehension (generator)"
   ]
  },
  {
   "cell_type": "markdown",
   "id": "57e13128-730b-44c7-8261-23ac87078f4a",
   "metadata": {},
   "source": [
    "# list comprehension"
   ]
  },
  {
   "cell_type": "code",
   "execution_count": 54,
   "id": "097d96ad-ef62-43fc-a912-77ea44b3dfff",
   "metadata": {},
   "outputs": [
    {
     "data": {
      "text/plain": [
       "range(0, 10)"
      ]
     },
     "execution_count": 54,
     "metadata": {},
     "output_type": "execute_result"
    }
   ],
   "source": [
    "range(10)"
   ]
  },
  {
   "cell_type": "code",
   "execution_count": 55,
   "id": "e2a9edc2-0d55-49dd-83e0-9d6ab74edda0",
   "metadata": {},
   "outputs": [
    {
     "name": "stdout",
     "output_type": "stream",
     "text": [
      "0\n",
      "1\n",
      "2\n",
      "3\n",
      "4\n",
      "5\n",
      "6\n",
      "7\n",
      "8\n",
      "9\n"
     ]
    }
   ],
   "source": [
    "for i in range(10):\n",
    "    print(i)"
   ]
  },
  {
   "cell_type": "code",
   "execution_count": 58,
   "id": "fb613811-6264-4fab-8628-99c4b9be8759",
   "metadata": {},
   "outputs": [
    {
     "name": "stdout",
     "output_type": "stream",
     "text": [
      "[0]\n",
      "[0, 1]\n",
      "[0, 1, 2]\n",
      "[0, 1, 2, 3]\n",
      "[0, 1, 2, 3, 4]\n",
      "[0, 1, 2, 3, 4, 5]\n",
      "[0, 1, 2, 3, 4, 5, 6]\n",
      "[0, 1, 2, 3, 4, 5, 6, 7]\n",
      "[0, 1, 2, 3, 4, 5, 6, 7, 8]\n",
      "[0, 1, 2, 3, 4, 5, 6, 7, 8, 9]\n"
     ]
    }
   ],
   "source": [
    "a=[]\n",
    "for i in range(10):\n",
    "    a.append(i)\n",
    "    print(a)"
   ]
  },
  {
   "cell_type": "code",
   "execution_count": 61,
   "id": "1fd26997-e4af-4549-8545-a4e87cc1e490",
   "metadata": {},
   "outputs": [
    {
     "name": "stdout",
     "output_type": "stream",
     "text": [
      "[0, 1, 2, 3, 4, 5, 6, 7, 8, 9]\n"
     ]
    }
   ],
   "source": [
    "a=[]\n",
    "for i in range(10):\n",
    "    a.append(i)\n",
    "print(a)"
   ]
  },
  {
   "cell_type": "markdown",
   "id": "961ab516-812e-441e-bfa3-cb8916ca5ac5",
   "metadata": {},
   "source": [
    "# set comprehension"
   ]
  },
  {
   "cell_type": "code",
   "execution_count": 65,
   "id": "76ab4d5e-4668-4142-a30a-38e35a17d34d",
   "metadata": {},
   "outputs": [
    {
     "name": "stdout",
     "output_type": "stream",
     "text": [
      "{0, 1, 2, 3, 4, 5, 6, 7, 8, 9}\n"
     ]
    }
   ],
   "source": [
    "b=set()\n",
    "for i in range(10):\n",
    "    b.add(i)\n",
    "print(b)"
   ]
  },
  {
   "cell_type": "markdown",
   "id": "19c01c1d-e2fd-4d8b-a787-19d34aa663d5",
   "metadata": {},
   "source": [
    "# dictionary comprehension"
   ]
  },
  {
   "cell_type": "code",
   "execution_count": 67,
   "id": "111c4fcc-71df-4f3e-a321-d08b58d359d6",
   "metadata": {},
   "outputs": [],
   "source": [
    "c={i for i in range(10)}"
   ]
  },
  {
   "cell_type": "code",
   "execution_count": 68,
   "id": "97ae81fd-8108-4c1e-b548-913c08f3bc4c",
   "metadata": {},
   "outputs": [
    {
     "name": "stdout",
     "output_type": "stream",
     "text": [
      "{0, 1, 2, 3, 4, 5, 6, 7, 8, 9}\n"
     ]
    }
   ],
   "source": [
    "print(c)"
   ]
  },
  {
   "cell_type": "code",
   "execution_count": 69,
   "id": "2dcdb479-14f9-40f6-ba73-6110687ffc9c",
   "metadata": {},
   "outputs": [],
   "source": [
    "a=[1,2,3,4,5]\n",
    "b=[\"Tarun\",\"Mohan\",\"sohan\",\"Rohan\",\"Vinay\"]\n",
    "for i in a,b:\n",
    "    print(i)"
   ]
  },
  {
   "cell_type": "code",
   "execution_count": 71,
   "id": "27438ded-4840-46c8-ae8b-1614b0c381f8",
   "metadata": {},
   "outputs": [
    {
     "name": "stdout",
     "output_type": "stream",
     "text": [
      "[1, 2, 3, 4, 5]\n",
      "['Tarun', 'Mohan', 'sohan', 'Rohan', 'Vinay']\n"
     ]
    }
   ],
   "source": [
    "for i in a,b:\n",
    "    print(i)"
   ]
  },
  {
   "cell_type": "code",
   "execution_count": 72,
   "id": "b9a64e33-57e9-426b-8944-af2af65b6622",
   "metadata": {},
   "outputs": [
    {
     "data": {
      "text/plain": [
       "([1, 2, 3, 4, 5], ['Tarun', 'Mohan', 'sohan', 'Rohan', 'Vinay'])"
      ]
     },
     "execution_count": 72,
     "metadata": {},
     "output_type": "execute_result"
    }
   ],
   "source": [
    "a,b"
   ]
  },
  {
   "cell_type": "code",
   "execution_count": 73,
   "id": "9f95b488-80c2-41f3-af79-f02c202d5973",
   "metadata": {},
   "outputs": [
    {
     "ename": "ValueError",
     "evalue": "too many values to unpack (expected 2)",
     "output_type": "error",
     "traceback": [
      "\u001b[1;31m---------------------------------------------------------------------------\u001b[0m",
      "\u001b[1;31mValueError\u001b[0m                                Traceback (most recent call last)",
      "Cell \u001b[1;32mIn[73], line 3\u001b[0m\n\u001b[0;32m      1\u001b[0m a\u001b[38;5;241m=\u001b[39m[\u001b[38;5;241m1\u001b[39m,\u001b[38;5;241m2\u001b[39m,\u001b[38;5;241m3\u001b[39m,\u001b[38;5;241m4\u001b[39m,\u001b[38;5;241m5\u001b[39m]\n\u001b[0;32m      2\u001b[0m b\u001b[38;5;241m=\u001b[39m[\u001b[38;5;124m\"\u001b[39m\u001b[38;5;124mTarun\u001b[39m\u001b[38;5;124m\"\u001b[39m,\u001b[38;5;124m\"\u001b[39m\u001b[38;5;124mMohan\u001b[39m\u001b[38;5;124m\"\u001b[39m,\u001b[38;5;124m\"\u001b[39m\u001b[38;5;124msohan\u001b[39m\u001b[38;5;124m\"\u001b[39m,\u001b[38;5;124m\"\u001b[39m\u001b[38;5;124mRohan\u001b[39m\u001b[38;5;124m\"\u001b[39m,\u001b[38;5;124m\"\u001b[39m\u001b[38;5;124mVinay\u001b[39m\u001b[38;5;124m\"\u001b[39m]\n\u001b[1;32m----> 3\u001b[0m \u001b[38;5;28;01mfor\u001b[39;00m i,j \u001b[38;5;129;01min\u001b[39;00m a,b:\n\u001b[0;32m      4\u001b[0m     \u001b[38;5;28mprint\u001b[39m(i,j)\n",
      "\u001b[1;31mValueError\u001b[0m: too many values to unpack (expected 2)"
     ]
    }
   ],
   "source": [
    "a=[1,2,3,4,5]\n",
    "b=[\"Tarun\",\"Mohan\",\"sohan\",\"Rohan\",\"Vinay\"]\n",
    "for i,j in a,b:\n",
    "    print(i,j)"
   ]
  },
  {
   "cell_type": "code",
   "execution_count": 75,
   "id": "434e5c00-aa07-4822-9ea4-34bb92fad4ba",
   "metadata": {},
   "outputs": [
    {
     "name": "stdout",
     "output_type": "stream",
     "text": [
      "1 Tarun\n",
      "2 Mohan\n",
      "3 sohan\n",
      "4 Rohan\n",
      "5 Vinay\n"
     ]
    }
   ],
   "source": [
    "a=[1,2,3,4,5]\n",
    "b=[\"Tarun\",\"Mohan\",\"sohan\",\"Rohan\",\"Vinay\"]\n",
    "for i,j in zip(a,b):\n",
    "    print(i,j)"
   ]
  },
  {
   "cell_type": "code",
   "execution_count": 77,
   "id": "b0176e96-bf58-4413-a70a-38cb5c5a7545",
   "metadata": {},
   "outputs": [
    {
     "name": "stdout",
     "output_type": "stream",
     "text": [
      "{1: 'Tarun', 2: 'Mohan', 3: 'sohan', 4: 'Rohan', 5: 'Vinay'}\n"
     ]
    }
   ],
   "source": [
    "d={}   # d=dict()\n",
    "a=[1,2,3,4,5]\n",
    "b=[\"Tarun\",\"Mohan\",\"sohan\",\"Rohan\",\"Vinay\"]\n",
    "for i,j in zip(a,b):\n",
    "    d.update({i:j})\n",
    "print(d)"
   ]
  },
  {
   "cell_type": "markdown",
   "id": "6717b3f1-6a45-4cd0-8cf4-c89409b97eea",
   "metadata": {},
   "source": [
    "# dictionary comprehension"
   ]
  },
  {
   "cell_type": "code",
   "execution_count": 81,
   "id": "b7a19e06-9b27-4ada-af1a-0672751a145e",
   "metadata": {},
   "outputs": [
    {
     "name": "stdout",
     "output_type": "stream",
     "text": [
      "{1: 'Tarun', 2: 'Mohan', 3: 'sohan', 4: 'Rohan', 5: 'Vinay'}\n"
     ]
    }
   ],
   "source": [
    "e={i:j for i,j in zip(a,b)}\n",
    "print(e)\n"
   ]
  },
  {
   "cell_type": "code",
   "execution_count": 82,
   "id": "46ea17eb-5904-4629-a9be-96dfe513f1ba",
   "metadata": {},
   "outputs": [
    {
     "name": "stdout",
     "output_type": "stream",
     "text": [
      "{11: 'mann', 22: 'Kumar', 33: 'Rana', 44: 'Dahiya', 55: 'Rathi'}\n"
     ]
    }
   ],
   "source": [
    "\n",
    "h={c:d for c,d in zip([11,22,33,44,55],[\"mann\",\"Kumar\",\"Rana\",\"Dahiya\",\"Rathi\"])}\n",
    "print(h)"
   ]
  },
  {
   "cell_type": "markdown",
   "id": "657d4740-ed83-4cb9-a6b7-cddd4f2c279e",
   "metadata": {},
   "source": [
    "# tuple comprehension (generator)"
   ]
  },
  {
   "cell_type": "code",
   "execution_count": null,
   "id": "c7276fa5-f6df-4226-8408-4f29b8a3a979",
   "metadata": {},
   "outputs": [],
   "source": []
  },
  {
   "cell_type": "code",
   "execution_count": null,
   "id": "a170a73f-2a5c-4cb6-9280-da1abc7f78f7",
   "metadata": {},
   "outputs": [],
   "source": []
  },
  {
   "cell_type": "code",
   "execution_count": null,
   "id": "c229575e-303e-4a03-80b9-97c85716d73b",
   "metadata": {},
   "outputs": [],
   "source": []
  },
  {
   "cell_type": "markdown",
   "id": "47a8acb9-bc09-4260-8c3f-4681149ef09f",
   "metadata": {},
   "source": [
    "# date 08.08.2023"
   ]
  },
  {
   "cell_type": "markdown",
   "id": "5c784118-91a7-4c4b-9e54-bd7e9e2317c6",
   "metadata": {},
   "source": [
    "> frozenset comprehension\n",
    "\n",
    "> break\n",
    "\n",
    "> continue\n",
    "\n",
    "> pass"
   ]
  },
  {
   "cell_type": "code",
   "execution_count": 1,
   "id": "92aba6e4-3f84-48b2-8230-78d08544b9e9",
   "metadata": {},
   "outputs": [],
   "source": [
    "# Frozenset Comprehension    This is immutable data type and  not creat generater.\n"
   ]
  },
  {
   "cell_type": "code",
   "execution_count": 6,
   "id": "5181cd75-1e0b-4e17-9dc3-dda0f5dc68b5",
   "metadata": {},
   "outputs": [],
   "source": [
    "a=frozenset()\n",
    "for i in range(10):\n",
    "    a=a.union(frozenset({i}))"
   ]
  },
  {
   "cell_type": "code",
   "execution_count": 7,
   "id": "01f7474f-0e80-4228-ab41-1ca4c2f512b8",
   "metadata": {},
   "outputs": [
    {
     "name": "stdout",
     "output_type": "stream",
     "text": [
      "frozenset({0, 1, 2, 3, 4, 5, 6, 7, 8, 9})\n"
     ]
    }
   ],
   "source": [
    "print(a)"
   ]
  },
  {
   "cell_type": "code",
   "execution_count": 17,
   "id": "49a8f43f-600e-492c-86ac-70db3f1ed688",
   "metadata": {},
   "outputs": [
    {
     "name": "stdout",
     "output_type": "stream",
     "text": [
      "frozenset({0, 1, 2, 3, 4, 5, 6, 7, 8, 9})\n"
     ]
    }
   ],
   "source": [
    "a=frozenset()\n",
    "for i in range(10):\n",
    "    a=a.union({i})\n",
    "print(a)"
   ]
  },
  {
   "cell_type": "code",
   "execution_count": 18,
   "id": "6e4fd8f8-e5f8-4c83-b2bf-39b1bc64259f",
   "metadata": {},
   "outputs": [
    {
     "name": "stdout",
     "output_type": "stream",
     "text": [
      "frozenset({0})\n",
      "frozenset({0, 1})\n",
      "frozenset({0, 1, 2})\n",
      "frozenset({0, 1, 2, 3})\n",
      "frozenset({0, 1, 2, 3, 4})\n",
      "frozenset({0, 1, 2, 3, 4, 5})\n",
      "frozenset({0, 1, 2, 3, 4, 5, 6})\n",
      "frozenset({0, 1, 2, 3, 4, 5, 6, 7})\n",
      "frozenset({0, 1, 2, 3, 4, 5, 6, 7, 8})\n",
      "frozenset({0, 1, 2, 3, 4, 5, 6, 7, 8, 9})\n"
     ]
    }
   ],
   "source": [
    "a=frozenset()\n",
    "for i in range(10):\n",
    "    a=a.union({i})\n",
    "    print(a)"
   ]
  },
  {
   "cell_type": "code",
   "execution_count": 16,
   "id": "c4cf62e1-e568-440c-a5cf-4e9b8490b2f7",
   "metadata": {},
   "outputs": [
    {
     "name": "stdout",
     "output_type": "stream",
     "text": [
      "frozenset({1})\n"
     ]
    }
   ],
   "source": [
    "a=frozenset()\n",
    "a=a.union({1})\n",
    "print(a)"
   ]
  },
  {
   "cell_type": "code",
   "execution_count": 19,
   "id": "b2c84086-2acd-4625-8fdb-cfb9909a7aec",
   "metadata": {},
   "outputs": [
    {
     "data": {
      "text/plain": [
       "frozenset({0, 1, 2, 3, 4, 5, 6, 7, 8, 9})"
      ]
     },
     "execution_count": 19,
     "metadata": {},
     "output_type": "execute_result"
    }
   ],
   "source": [
    "frozenset({i for i in range(10)})"
   ]
  },
  {
   "cell_type": "markdown",
   "id": "bf7287eb-5484-44f8-987f-4378d16baf9a",
   "metadata": {},
   "source": [
    "> continue\n",
    "\n",
    "> break\n",
    "\n",
    "> pass"
   ]
  },
  {
   "cell_type": "markdown",
   "id": "be7dd621-a9e7-406d-b67e-03416e61cb9f",
   "metadata": {},
   "source": [
    "# continue keywork\n",
    "\n",
    "> always use inside a loop"
   ]
  },
  {
   "cell_type": "code",
   "execution_count": 24,
   "id": "fb46b1a6-c0fd-4330-bfe9-59f3ed1e08da",
   "metadata": {},
   "outputs": [
    {
     "name": "stdout",
     "output_type": "stream",
     "text": [
      "0 Hello World\n",
      "1 Hello World\n",
      "2 Hello World\n",
      "3 Hello World\n",
      "4 Hello World\n"
     ]
    }
   ],
   "source": [
    "for i in range(5):\n",
    "    print(i,\"Hello World\")"
   ]
  },
  {
   "cell_type": "code",
   "execution_count": 32,
   "id": "95abe6d2-ca8a-46b2-b2f8-872d7396e0bc",
   "metadata": {},
   "outputs": [
    {
     "name": "stdout",
     "output_type": "stream",
     "text": [
      "0 Hello World\n",
      "1 Hello World\n",
      "3 Hello World\n",
      "4 Hello World\n"
     ]
    }
   ],
   "source": [
    "# we want 2 hello world will not be print.\n",
    "\n",
    "for i in range(5):       # isme 'continue keyword' ke through hum jo bhe value print nai karwana cahate \\n\n",
    "    if i==2:             # wo print nai hoga.\n",
    "        continue\n",
    "    print(i,\"Hello World\")"
   ]
  },
  {
   "cell_type": "code",
   "execution_count": 33,
   "id": "b03feaeb-0c2f-4873-881b-2b1b67fd57a6",
   "metadata": {},
   "outputs": [
    {
     "name": "stdout",
     "output_type": "stream",
     "text": [
      "0 Hello World\n",
      "1 Hello World\n",
      "4 Hello World\n"
     ]
    }
   ],
   "source": [
    "for i in range(5):       # isme 'continue keyword' ke through hum jo bhe value print nai karwana cahate \\n\n",
    "    if i==2 or i==3:             # wo print nai hoga.\n",
    "        continue\n",
    "    print(i,\"Hello World\")\n"
   ]
  },
  {
   "cell_type": "code",
   "execution_count": 37,
   "id": "81f6d42b-53fd-430d-9f21-8407aa7a207d",
   "metadata": {},
   "outputs": [
    {
     "name": "stdout",
     "output_type": "stream",
     "text": [
      "0 Hello World\n",
      "1 Hello World\n",
      "4 Hello World\n",
      "5 Hello World\n",
      "6 Hello World\n",
      "9 Hello World\n"
     ]
    }
   ],
   "source": [
    "for i in range(10):       \n",
    "    if i==2 or i==3 or i==7 or i==8:          \n",
    "        continue\n",
    "    print(i,\"Hello World\")"
   ]
  },
  {
   "cell_type": "code",
   "execution_count": 39,
   "id": "628b3054-dcfa-4386-8fb1-5dab828c8fc6",
   "metadata": {},
   "outputs": [
    {
     "name": "stdout",
     "output_type": "stream",
     "text": [
      "0 Hello World\n",
      "1 Hello World\n",
      "4 Hello World\n",
      "6 Hello World\n",
      "8 Hello World\n"
     ]
    }
   ],
   "source": [
    "for i in range(10):       \n",
    "    if i in[2,3,5,7,9]:          \n",
    "        continue\n",
    "    print(i,\"Hello World\")"
   ]
  },
  {
   "cell_type": "code",
   "execution_count": 45,
   "id": "6c5c2d71-da87-41ed-8d8b-04b92ec4f9e8",
   "metadata": {},
   "outputs": [
    {
     "name": "stdout",
     "output_type": "stream",
     "text": [
      "0 Hello World\n",
      "1 Hello World\n",
      "4 namaste bhai\n",
      "6 Hello World\n",
      "8 namaste bhai\n",
      "9 Hello World\n"
     ]
    }
   ],
   "source": [
    "for i in range(10):       \n",
    "    if i in[2,3,5,7]:          \n",
    "        continue\n",
    "    elif i in [4,8]:\n",
    "        print(i,\"namaste bhai\")\n",
    "    else:\n",
    "        print(i,\"Hello World\")"
   ]
  },
  {
   "cell_type": "code",
   "execution_count": 49,
   "id": "92562fd5-6b9e-433b-85d9-d499e6653c60",
   "metadata": {},
   "outputs": [
    {
     "name": "stdout",
     "output_type": "stream",
     "text": [
      "0 Hello World\n",
      "1 Hello World\n",
      "4 namaste bhai\n",
      "4 Hello World\n",
      "6 Hello World\n",
      "8 namaste bhai\n",
      "8 Hello World\n"
     ]
    }
   ],
   "source": [
    "for i in range(10):       \n",
    "    if i in[2,3,5,7,9]:          \n",
    "        continue\n",
    "    elif i in [4,8]:\n",
    "        print(i,\"namaste bhai\")\n",
    "    print(i,\"Hello World\")"
   ]
  },
  {
   "cell_type": "markdown",
   "id": "e320cf32-cfaa-4e54-a8dc-0fc4f4a9b69f",
   "metadata": {},
   "source": [
    "# Break keyword\n",
    "\n",
    "> use inside loop only"
   ]
  },
  {
   "cell_type": "code",
   "execution_count": 42,
   "id": "b9c6b4b8-9d44-41c0-b18e-405632a30c13",
   "metadata": {},
   "outputs": [
    {
     "name": "stdout",
     "output_type": "stream",
     "text": [
      "0 Hello World\n",
      "1 Hello World\n"
     ]
    }
   ],
   "source": [
    "for i in range(10):       \n",
    "    if i==2:          \n",
    "        break\n",
    "    print(i,\"Hello World\")"
   ]
  },
  {
   "cell_type": "markdown",
   "id": "8b3ba272-aaa6-484f-9168-1505bef7ac9f",
   "metadata": {},
   "source": [
    "# Pass"
   ]
  },
  {
   "cell_type": "code",
   "execution_count": 54,
   "id": "6a58e955-4f71-49b9-921a-3a688a52cfee",
   "metadata": {},
   "outputs": [
    {
     "name": "stdin",
     "output_type": "stream",
     "text": [
      "enter a number:  11\n"
     ]
    },
    {
     "name": "stdout",
     "output_type": "stream",
     "text": [
      "this no is odd, hello world\n"
     ]
    }
   ],
   "source": [
    "num1=int(input(\"enter a number: \"))\n",
    "if num1%2==0:\n",
    "    print(\"this no is even\")\n",
    "else:\n",
    "    print(\"this no is odd\",end=\", \")\n",
    "\n",
    "print(\"hello world\")\n"
   ]
  },
  {
   "cell_type": "code",
   "execution_count": 57,
   "id": "47b8b6c5-33bf-430d-b94a-16e1d2e60f7f",
   "metadata": {},
   "outputs": [
    {
     "name": "stdin",
     "output_type": "stream",
     "text": [
      "enter a number:  10\n"
     ]
    },
    {
     "name": "stdout",
     "output_type": "stream",
     "text": [
      "hello world\n"
     ]
    }
   ],
   "source": [
    "num1=int(input(\"enter a number: \"))\n",
    "if num1%2==0:\n",
    "    pass\n",
    "else:\n",
    "    print(\"this no is odd\",end=\", \")\n",
    "\n",
    "print(\"hello world\")\n"
   ]
  },
  {
   "cell_type": "code",
   "execution_count": 58,
   "id": "a52ea51f-1625-4003-9137-b5a281708f63",
   "metadata": {},
   "outputs": [
    {
     "ename": "IndentationError",
     "evalue": "expected an indented block after 'if' statement on line 2 (2210340956.py, line 4)",
     "output_type": "error",
     "traceback": [
      "\u001b[1;36m  Cell \u001b[1;32mIn[58], line 4\u001b[1;36m\u001b[0m\n\u001b[1;33m    else:\u001b[0m\n\u001b[1;37m    ^\u001b[0m\n\u001b[1;31mIndentationError\u001b[0m\u001b[1;31m:\u001b[0m expected an indented block after 'if' statement on line 2\n"
     ]
    }
   ],
   "source": [
    "num1=int(input(\"enter a number: \"))\n",
    "if num1%2==0:\n",
    "    \n",
    "else:\n",
    "    print(\"this no is odd\",end=\", \")\n",
    "\n",
    "print(\"hello world\")"
   ]
  },
  {
   "cell_type": "code",
   "execution_count": 61,
   "id": "aa8e2800-c8b6-4743-98e6-cdf1e06f8b55",
   "metadata": {},
   "outputs": [
    {
     "name": "stdin",
     "output_type": "stream",
     "text": [
      "enter a number:  11\n"
     ]
    },
    {
     "name": "stdout",
     "output_type": "stream",
     "text": [
      "hello world\n"
     ]
    }
   ],
   "source": [
    "num1=int(input(\"enter a number: \"))\n",
    "if num1%2==0:\n",
    "    print(\"even number \",end=\", \")\n",
    "else:\n",
    "    pass\n",
    "\n",
    "print(\"hello world\")"
   ]
  },
  {
   "cell_type": "code",
   "execution_count": 63,
   "id": "8ea48aa9-34f9-4510-8eeb-7ffec7233303",
   "metadata": {},
   "outputs": [
    {
     "name": "stdout",
     "output_type": "stream",
     "text": [
      "hello world\n",
      "hello world\n",
      "hello world\n",
      "hello world\n",
      "hello world\n",
      "This is krishna\n"
     ]
    }
   ],
   "source": [
    "for i in range(5):\n",
    "    print(\"hello world\")\n",
    "print(\"This is krishna\")"
   ]
  },
  {
   "cell_type": "code",
   "execution_count": 65,
   "id": "ed4da77d-ae83-4efc-aabd-d6d59eb50f5b",
   "metadata": {},
   "outputs": [
    {
     "name": "stdout",
     "output_type": "stream",
     "text": [
      "This is krishna\n"
     ]
    }
   ],
   "source": [
    "for i in range(5):\n",
    "    pass\n",
    "print(\"This is krishna\")"
   ]
  },
  {
   "cell_type": "markdown",
   "id": "3b6a32a9-6ecf-4b76-93e9-afd8083042c4",
   "metadata": {},
   "source": [
    "# Date:- 09.08.2023"
   ]
  },
  {
   "cell_type": "markdown",
   "id": "a5021802-247f-4765-8764-3122ed641685",
   "metadata": {},
   "source": [
    "# while loop\n",
    "        > single while loop\n",
    "        > nested while loop\n",
    "        > pattern using simple while loop\n",
    "        > pattern using nested while loop\n",
    "        > break\n",
    "        > continue\n",
    "        > pass"
   ]
  },
  {
   "cell_type": "raw",
   "id": "02bd1027-3723-4c25-b74d-ea8bbe9465f0",
   "metadata": {},
   "source": [
    "initializer\n",
    "while condition:\n",
    "    statement(s)\n",
    "    increment/decrement"
   ]
  },
  {
   "cell_type": "code",
   "execution_count": 80,
   "id": "0b9185c8-32c9-430f-9e60-931c8d51ee43",
   "metadata": {},
   "outputs": [
    {
     "name": "stdout",
     "output_type": "stream",
     "text": [
      "hello world\n",
      "hello world\n",
      "hello world\n",
      "hello world\n",
      "hello world\n"
     ]
    }
   ],
   "source": [
    "i=1                        # i is variable and 1 is initializer\n",
    "while i<=5:                   # conditional programming\n",
    "    print(\"hello world\")\n",
    "    i=i+1                     # It is increment"
   ]
  },
  {
   "cell_type": "code",
   "execution_count": 1,
   "id": "8d424c71-ca7e-4ea2-9032-3682510094b5",
   "metadata": {},
   "outputs": [
    {
     "name": "stdout",
     "output_type": "stream",
     "text": [
      "*\n",
      "**\n",
      "***\n",
      "****\n",
      "*****\n"
     ]
    }
   ],
   "source": [
    "\n",
    "i=0\n",
    "while i<5:\n",
    "    print(\"*\"*(i+1))\n",
    "    i=i+1"
   ]
  },
  {
   "cell_type": "code",
   "execution_count": 4,
   "id": "6699bb67-5d1e-4eb4-bc0e-c7307bf0f9c6",
   "metadata": {},
   "outputs": [
    {
     "name": "stdout",
     "output_type": "stream",
     "text": [
      "0\n",
      "1\n",
      "2\n",
      "3\n",
      "4\n"
     ]
    }
   ],
   "source": [
    "a=[\"Krishna\",\"Mohan\",\"Shyam\",\"Radhey\",\"Murli\"]\n",
    "i=0\n",
    "while i<5:\n",
    "    print(i)\n",
    "    i=i+1     # i+=1"
   ]
  },
  {
   "cell_type": "code",
   "execution_count": 7,
   "id": "88e1e579-985a-4d94-a911-d0573118c675",
   "metadata": {},
   "outputs": [
    {
     "name": "stdout",
     "output_type": "stream",
     "text": [
      "Krishna\n",
      "Mohan\n",
      "Shyam\n",
      "Radhey\n",
      "Murli\n"
     ]
    }
   ],
   "source": [
    "a=[\"Krishna\",\"Mohan\",\"Shyam\",\"Radhey\",\"Murli\"]\n",
    "i=0\n",
    "while i<5:\n",
    "    print(a[i])\n",
    "    i=i+1  "
   ]
  },
  {
   "cell_type": "code",
   "execution_count": 8,
   "id": "958b6bc4-3bd1-4446-b2aa-552afe219ed4",
   "metadata": {},
   "outputs": [
    {
     "name": "stdout",
     "output_type": "stream",
     "text": [
      "Krishna\n",
      "Mohan\n",
      "Shyam\n",
      "Radhey\n",
      "Murli\n"
     ]
    }
   ],
   "source": [
    "a=[\"Krishna\",\"Mohan\",\"Shyam\",\"Radhey\",\"Murli\"]\n",
    "for i in a:\n",
    "    print(i)"
   ]
  },
  {
   "cell_type": "code",
   "execution_count": 17,
   "id": "2d2c9e90-0289-4397-bdb2-3f2788914fce",
   "metadata": {},
   "outputs": [
    {
     "name": "stdout",
     "output_type": "stream",
     "text": [
      "Krishna\n",
      "Mohan\n",
      "Shyam\n",
      "Radhey\n",
      "Murli\n"
     ]
    }
   ],
   "source": [
    "a=[\"Krishna\",\"Mohan\",\"Shyam\",\"Radhey\",\"Murli\"]\n",
    "i=0\n",
    "while i<len(a):                 # len ka use multypal value ko print karta hai ( jab unlimited value ho)\n",
    "    print(a[i])\n",
    "    i=i+1  "
   ]
  },
  {
   "cell_type": "code",
   "execution_count": 33,
   "id": "f6b1fbe6-846a-41ca-a9fb-15ced6e64ba4",
   "metadata": {},
   "outputs": [
    {
     "name": "stdout",
     "output_type": "stream",
     "text": [
      "Murli\n",
      "Radhey\n",
      "Shyam\n",
      "Mohan\n",
      "Krishna\n"
     ]
    }
   ],
   "source": [
    "# print reverse value\n",
    "\n",
    "a=[\"Krishna\",\"Mohan\",\"Shyam\",\"Radhey\",\"Murli\"]\n",
    "i=0\n",
    "while i<len(a):                \n",
    "    print(a[4-i])\n",
    "    i=i+1"
   ]
  },
  {
   "cell_type": "code",
   "execution_count": 40,
   "id": "10ec0eea-38ff-42bf-8f7e-b5f6f59b5bf0",
   "metadata": {},
   "outputs": [
    {
     "name": "stdout",
     "output_type": "stream",
     "text": [
      "1=Murli\n",
      "2=Radhey\n",
      "3=Shyam\n",
      "4=Mohan\n",
      "5=Krishna\n"
     ]
    }
   ],
   "source": [
    "a=[\"Krishna\",\"Mohan\",\"Shyam\",\"Radhey\",\"Murli\"]\n",
    "i=0\n",
    "while i<len(a):                \n",
    "    print(i+1,a[-(i+1)],sep=\"=\")\n",
    "    i=i+1"
   ]
  },
  {
   "cell_type": "code",
   "execution_count": 47,
   "id": "fe90c683-a455-4921-9470-6d2765d5bf93",
   "metadata": {},
   "outputs": [
    {
     "name": "stdout",
     "output_type": "stream",
     "text": [
      "1=Murli\n",
      "2=Radhey\n",
      "3=Shyam\n",
      "4=Mohan\n",
      "5=Krishna\n"
     ]
    }
   ],
   "source": [
    "a=[\"Krishna\",\"Mohan\",\"Shyam\",\"Radhey\",\"Murli\"]\n",
    "i=0\n",
    "while i<len(a):                \n",
    "    print(i+1,\"=\",a[-(i+1)],sep=\"\")\n",
    "    i=i+1"
   ]
  },
  {
   "cell_type": "code",
   "execution_count": 48,
   "id": "c5295d67-4096-4d9e-b048-1b5417b8ddca",
   "metadata": {},
   "outputs": [
    {
     "name": "stdout",
     "output_type": "stream",
     "text": [
      "['Krishna', 'Mohan', 'Shyam', 'Radhey', 'Murli']\n"
     ]
    }
   ],
   "source": [
    "print(a)"
   ]
  },
  {
   "cell_type": "code",
   "execution_count": 53,
   "id": "4a2d4af2-78fb-41bb-95f2-22d93053d200",
   "metadata": {},
   "outputs": [
    {
     "name": "stdout",
     "output_type": "stream",
     "text": [
      "['Krishna', 'Mohan', 'Murli', 'Radhey', 'Shyam']\n"
     ]
    }
   ],
   "source": [
    "a.reverse()\n",
    "print(a)"
   ]
  },
  {
   "cell_type": "code",
   "execution_count": 54,
   "id": "9e48fff2-7ed6-4a92-9b18-fd6645a3add3",
   "metadata": {},
   "outputs": [],
   "source": [
    "b=['Krishna', 'Mohan', 'Shyam', 'Radhey', 'Murli']\n"
   ]
  },
  {
   "cell_type": "code",
   "execution_count": 55,
   "id": "14c5cac5-1516-45f3-a46c-068c32c81cf6",
   "metadata": {},
   "outputs": [],
   "source": [
    "b.reverse()"
   ]
  },
  {
   "cell_type": "code",
   "execution_count": 56,
   "id": "30856fde-b3b1-402b-8ce1-449565c0db97",
   "metadata": {},
   "outputs": [
    {
     "name": "stdout",
     "output_type": "stream",
     "text": [
      "['Murli', 'Radhey', 'Shyam', 'Mohan', 'Krishna']\n"
     ]
    }
   ],
   "source": [
    "print(b)"
   ]
  },
  {
   "cell_type": "code",
   "execution_count": 68,
   "id": "b3e75883-363f-437f-b2e7-c49377bafe89",
   "metadata": {},
   "outputs": [
    {
     "name": "stdout",
     "output_type": "stream",
     "text": [
      "['Murli', 'Radhey', 'Shyam', 'Mohan', 'Krishna']\n"
     ]
    }
   ],
   "source": [
    "a=[\"Krishna\",\"Mohan\",\"Shyam\",\"Radhey\",\"Murli\"]\n",
    "new=[]\n",
    "i=0\n",
    "while i<len(a):                \n",
    "    new.append(a[-(i+1)])\n",
    "    i=i+1\n",
    "\n",
    "print(new)"
   ]
  },
  {
   "cell_type": "code",
   "execution_count": 71,
   "id": "aa091c4e-1088-4294-9912-0f8fa6b0cc98",
   "metadata": {},
   "outputs": [
    {
     "data": {
      "text/plain": [
       "'ANHSIRK'"
      ]
     },
     "execution_count": 71,
     "metadata": {},
     "output_type": "execute_result"
    }
   ],
   "source": [
    "c=\"KRISHNA\"\n",
    "c[-1::-1]"
   ]
  },
  {
   "cell_type": "code",
   "execution_count": 81,
   "id": "6be5599a-7615-4453-9e29-2ff1490cfad4",
   "metadata": {},
   "outputs": [
    {
     "name": "stdout",
     "output_type": "stream",
     "text": [
      "Murli\n",
      "Radhey\n",
      "Shyam\n",
      "Mohan\n",
      "Krishna\n"
     ]
    }
   ],
   "source": [
    "a=[\"Krishna\",\"Mohan\",\"Shyam\",\"Radhey\",\"Murli\"]\n",
    "i=0\n",
    "while i<len(a):                \n",
    "    print(a[-(i+1)])\n",
    "    i=i+1"
   ]
  },
  {
   "cell_type": "code",
   "execution_count": 76,
   "id": "1069e0cd-78e3-4c28-988c-a71482190592",
   "metadata": {},
   "outputs": [
    {
     "name": "stdout",
     "output_type": "stream",
     "text": [
      "Murli\n"
     ]
    }
   ],
   "source": [
    "c=a[-1]\n",
    "print(c)"
   ]
  },
  {
   "cell_type": "code",
   "execution_count": 79,
   "id": "8eabae50-2978-4e25-bbeb-782eba132b7e",
   "metadata": {},
   "outputs": [
    {
     "data": {
      "text/plain": [
       "'ilruM'"
      ]
     },
     "execution_count": 79,
     "metadata": {},
     "output_type": "execute_result"
    }
   ],
   "source": [
    "a[-1][-1::-1]"
   ]
  },
  {
   "cell_type": "code",
   "execution_count": 82,
   "id": "82bbefe8-0f40-4dd5-83b7-6605180a90eb",
   "metadata": {},
   "outputs": [
    {
     "name": "stdout",
     "output_type": "stream",
     "text": [
      "ilruM\n",
      "yehdaR\n",
      "mayhS\n",
      "nahoM\n",
      "anhsirK\n"
     ]
    }
   ],
   "source": [
    "a=[\"Krishna\",\"Mohan\",\"Shyam\",\"Radhey\",\"Murli\"]\n",
    "i=0\n",
    "while i<len(a):                \n",
    "    print(a[-(i+1)][-1::-1])\n",
    "    i=i+1"
   ]
  },
  {
   "cell_type": "code",
   "execution_count": 83,
   "id": "01c56f18-b409-4eb8-b4b3-6ca945474bdb",
   "metadata": {},
   "outputs": [
    {
     "name": "stdout",
     "output_type": "stream",
     "text": [
      "['ilruM', 'yehdaR', 'mayhS', 'nahoM', 'anhsirK']\n"
     ]
    }
   ],
   "source": [
    "a=[\"Krishna\",\"Mohan\",\"Shyam\",\"Radhey\",\"Murli\"]\n",
    "new=[]\n",
    "i=0\n",
    "while i<len(a):  \n",
    "    e=a[-(i+1)]\n",
    "    f=e[-1::-1]\n",
    "    new.append(f)\n",
    "    i=i+1\n",
    "\n",
    "print(new)"
   ]
  },
  {
   "cell_type": "code",
   "execution_count": 85,
   "id": "3c8ecdea-f352-487e-8f77-041a53e6e355",
   "metadata": {},
   "outputs": [
    {
     "name": "stdout",
     "output_type": "stream",
     "text": [
      "['ilruM', 'yehdaR', 'mayhS', 'nahoM', 'anhsirK']\n"
     ]
    }
   ],
   "source": [
    "a=[\"Krishna\",\"Mohan\",\"Shyam\",\"Radhey\",\"Murli\"]\n",
    "new=[]\n",
    "i=0\n",
    "while i<len(a):  \n",
    "    new.append(a[-(i+1)][-1::-1])\n",
    "    i=i+1\n",
    "\n",
    "print(new)"
   ]
  },
  {
   "cell_type": "code",
   "execution_count": null,
   "id": "26c6c747-ca91-4242-94b7-9ef04d0e292d",
   "metadata": {},
   "outputs": [],
   "source": []
  }
 ],
 "metadata": {
  "kernelspec": {
   "display_name": "Python 3 (ipykernel)",
   "language": "python",
   "name": "python3"
  },
  "language_info": {
   "codemirror_mode": {
    "name": "ipython",
    "version": 3
   },
   "file_extension": ".py",
   "mimetype": "text/x-python",
   "name": "python",
   "nbconvert_exporter": "python",
   "pygments_lexer": "ipython3",
   "version": "3.11.3"
  }
 },
 "nbformat": 4,
 "nbformat_minor": 5
}
