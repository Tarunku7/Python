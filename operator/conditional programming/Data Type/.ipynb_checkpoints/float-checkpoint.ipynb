{
 "cells": [
  {
   "cell_type": "markdown",
   "id": "c8b9db79-6f72-4e65-aabd-58342309e352",
   "metadata": {},
   "source": [
    "# Float\n",
    "> float constructor is float()\n",
    "\n",
    "> float literal is 0.0.\n",
    "\n",
    "> float contain (0,1,2,3,4,5,6,7,8,9.\n",
    "\n",
    "> implementation of interpreter"
   ]
  },
  {
   "cell_type": "code",
   "execution_count": 5,
   "id": "4dd23bdf-31db-4888-9378-10109b0467c2",
   "metadata": {},
   "outputs": [
    {
     "name": "stdout",
     "output_type": "stream",
     "text": [
      "10.0\n",
      "<class 'float'>\n",
      "1958451769328\n"
     ]
    }
   ],
   "source": [
    "a=10.0\n",
    "print(a)     \n",
    "print(type(a))   # data type\n",
    "print(id(a))  # float value"
   ]
  },
  {
   "cell_type": "code",
   "execution_count": 6,
   "id": "d0ba5a68-966d-440d-8d73-e465ff66b3a4",
   "metadata": {},
   "outputs": [],
   "source": [
    "# constructor\n",
    "a=float()"
   ]
  },
  {
   "cell_type": "code",
   "execution_count": 7,
   "id": "fc7322cd-ec5e-491f-ab1d-9c9fe1217dc1",
   "metadata": {},
   "outputs": [
    {
     "name": "stdout",
     "output_type": "stream",
     "text": [
      "0.0\n"
     ]
    }
   ],
   "source": [
    "print(a)"
   ]
  },
  {
   "cell_type": "code",
   "execution_count": 8,
   "id": "9c662692-7e1d-4dc7-b5af-597d7b1723ae",
   "metadata": {},
   "outputs": [
    {
     "data": {
      "text/plain": [
       "0.0"
      ]
     },
     "execution_count": 8,
     "metadata": {},
     "output_type": "execute_result"
    }
   ],
   "source": [
    "# literal\n",
    "float()"
   ]
  },
  {
   "cell_type": "code",
   "execution_count": 10,
   "id": "07d6819c-636a-4a0e-9759-192cdcb2760d",
   "metadata": {},
   "outputs": [
    {
     "name": "stdout",
     "output_type": "stream",
     "text": [
      "1958451760976\n"
     ]
    }
   ],
   "source": [
    "b=10.0\n",
    "print(id(b))"
   ]
  },
  {
   "cell_type": "raw",
   "id": "0284fc49-5127-4826-93f3-0a95ed0d9c6c",
   "metadata": {},
   "source": [
    "# Implementation of Interpreter\n",
    "> Java Jupyter\n",
    "> Rod Python\n",
    "> c python(Default)\n",
    "> Ipython(in jupyter)"
   ]
  },
  {
   "cell_type": "code",
   "execution_count": 1,
   "id": "ccf6812c-6bf8-4dfb-ab6d-09590543079c",
   "metadata": {},
   "outputs": [],
   "source": [
    "c=00000000.00000000020"
   ]
  },
  {
   "cell_type": "code",
   "execution_count": 3,
   "id": "a98c4f91-f5c9-4956-8e7a-2e5f90727ac2",
   "metadata": {},
   "outputs": [
    {
     "name": "stdout",
     "output_type": "stream",
     "text": [
      "2e-10\n"
     ]
    }
   ],
   "source": [
    "print(c)         # 2e-10 ---> 2*10.0**10"
   ]
  },
  {
   "cell_type": "code",
   "execution_count": 4,
   "id": "b7e64c9e-0710-43d0-80d4-16c9061fc0d5",
   "metadata": {},
   "outputs": [
    {
     "data": {
      "text/plain": [
       "20000000000.0"
      ]
     },
     "execution_count": 4,
     "metadata": {},
     "output_type": "execute_result"
    }
   ],
   "source": [
    "2*10.0**10"
   ]
  },
  {
   "cell_type": "code",
   "execution_count": 8,
   "id": "90044ccf-0ff7-4141-8483-8769f184ce35",
   "metadata": {},
   "outputs": [
    {
     "name": "stdout",
     "output_type": "stream",
     "text": [
      "6.5e-06\n"
     ]
    }
   ],
   "source": [
    "d=00000.0000065\n",
    "print(d)"
   ]
  },
  {
   "cell_type": "code",
   "execution_count": null,
   "id": "da055750-40e8-48d2-b59c-2d035feea7a2",
   "metadata": {},
   "outputs": [],
   "source": []
  }
 ],
 "metadata": {
  "kernelspec": {
   "display_name": "Python 3 (ipykernel)",
   "language": "python",
   "name": "python3"
  },
  "language_info": {
   "codemirror_mode": {
    "name": "ipython",
    "version": 3
   },
   "file_extension": ".py",
   "mimetype": "text/x-python",
   "name": "python",
   "nbconvert_exporter": "python",
   "pygments_lexer": "ipython3",
   "version": "3.11.3"
  }
 },
 "nbformat": 4,
 "nbformat_minor": 5
}
