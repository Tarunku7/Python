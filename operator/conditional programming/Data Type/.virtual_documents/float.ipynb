


a=10.0
print(a)     
print(type(a))   # data type
print(id(a))  # float value


# constructor
a=float()


print(a)


# literal
float()


b=10.0
print(id(b))





c=00000000.00000000020


print(c)         # 2e-10 ---> 2*10.0**10


2*10.0**10


d=00000.0000065
print(d)



