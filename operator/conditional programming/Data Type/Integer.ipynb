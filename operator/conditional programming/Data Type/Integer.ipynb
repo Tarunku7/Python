{
 "cells": [
  {
   "cell_type": "markdown",
   "id": "041c325e-e94d-4a15-88d1-03a5c5f180b1",
   "metadata": {},
   "source": [
    "# Integer\n",
    "> Integer constructure is int()\n",
    "\n",
    "> integer literal is 0.\n",
    "\n",
    "> integer contain 0,1,2,3,4,5,6,7,8,9; base of integer is 10\n",
    "\n",
    "> integer is immutable data type --> cannot change"
   ]
  },
  {
   "cell_type": "code",
   "execution_count": 1,
   "id": "bee34834-d6d5-4bbc-9acd-c905b2c73f79",
   "metadata": {},
   "outputs": [],
   "source": [
    "a=10"
   ]
  },
  {
   "cell_type": "code",
   "execution_count": 3,
   "id": "40b8d9a7-d093-4a74-8dce-edabbb64d6f0",
   "metadata": {},
   "outputs": [
    {
     "name": "stdout",
     "output_type": "stream",
     "text": [
      "10\n"
     ]
    }
   ],
   "source": [
    "print(a)"
   ]
  },
  {
   "cell_type": "code",
   "execution_count": 4,
   "id": "b449baf9-08e4-478e-b966-a70aa6798719",
   "metadata": {},
   "outputs": [
    {
     "name": "stdout",
     "output_type": "stream",
     "text": [
      "<class 'int'>\n"
     ]
    }
   ],
   "source": [
    "print(type(a))"
   ]
  },
  {
   "cell_type": "code",
   "execution_count": 8,
   "id": "cb54615b-0d73-4b07-b52c-fa19d6b388c8",
   "metadata": {},
   "outputs": [
    {
     "data": {
      "text/plain": [
       "0"
      ]
     },
     "execution_count": 8,
     "metadata": {},
     "output_type": "execute_result"
    }
   ],
   "source": [
    "# Make a data type in int whose value is '0'\n",
    "int()    # literal"
   ]
  },
  {
   "cell_type": "code",
   "execution_count": 7,
   "id": "d2b3b7b0-8e1f-4d29-bc0a-667e9ba8e8f7",
   "metadata": {},
   "outputs": [
    {
     "name": "stdout",
     "output_type": "stream",
     "text": [
      "140711022269512\n"
     ]
    }
   ],
   "source": [
    "# want to know the actual value of a\n",
    "\n",
    "print(id(a))"
   ]
  },
  {
   "cell_type": "raw",
   "id": "970099c9-98db-4f4e-b662-bad64815736d",
   "metadata": {},
   "source": [
    "# How many type in integer that whose magnitude is '0'. \n",
    "> there are 2 type.\n",
    "1 Constructure\n",
    "2 Literal"
   ]
  },
  {
   "cell_type": "code",
   "execution_count": 9,
   "id": "64e76720-4367-4226-a0c9-57c75e8b07ac",
   "metadata": {},
   "outputs": [],
   "source": [
    "#  1 Constructure\n",
    "a=int()"
   ]
  },
  {
   "cell_type": "code",
   "execution_count": 10,
   "id": "6e0e3a5a-ea11-434a-be90-0e3131d3634e",
   "metadata": {},
   "outputs": [
    {
     "name": "stdout",
     "output_type": "stream",
     "text": [
      "0\n"
     ]
    }
   ],
   "source": [
    "print(a)"
   ]
  },
  {
   "cell_type": "code",
   "execution_count": 13,
   "id": "7435dcb7-50c8-4872-a621-4b3e7dd25b34",
   "metadata": {},
   "outputs": [
    {
     "data": {
      "text/plain": [
       "0"
      ]
     },
     "execution_count": 13,
     "metadata": {},
     "output_type": "execute_result"
    }
   ],
   "source": [
    "# 2 Literal\n",
    "int()"
   ]
  },
  {
   "cell_type": "raw",
   "id": "8bf280d7-390a-437f-bb7f-399edda4c57e",
   "metadata": {},
   "source": [
    "#  ASCii-- corractor created by ANSI\n",
    "\n",
    "ANSI ascii ---> 128 character encode with number 0,127"
   ]
  },
  {
   "cell_type": "code",
   "execution_count": 14,
   "id": "9543395d-ff18-4c0a-95a2-b43794650153",
   "metadata": {},
   "outputs": [],
   "source": [
    "e=\"k\""
   ]
  },
  {
   "cell_type": "code",
   "execution_count": 15,
   "id": "6adc92fa-d8f7-4405-a726-777fb3b30432",
   "metadata": {},
   "outputs": [
    {
     "name": "stdout",
     "output_type": "stream",
     "text": [
      "107\n"
     ]
    }
   ],
   "source": [
    "print(ord(e))     # Function"
   ]
  },
  {
   "cell_type": "raw",
   "id": "cb5421d4-9367-4364-8113-fd34e58bf552",
   "metadata": {},
   "source": [
    "# 107 to convert binary\n",
    "> to convert to binary"
   ]
  },
  {
   "cell_type": "code",
   "execution_count": 18,
   "id": "3dc8eaf5-12e3-4903-836a-3c85e9f3aebb",
   "metadata": {},
   "outputs": [
    {
     "data": {
      "text/plain": [
       "'0b1101011'"
      ]
     },
     "execution_count": 18,
     "metadata": {},
     "output_type": "execute_result"
    }
   ],
   "source": [
    "bin(107)       #  0b1101011---->  (0b)--> Notation & (1101011)---> Binary Number "
   ]
  },
  {
   "cell_type": "raw",
   "id": "d3504a2d-a060-44d3-91c7-b7a26890062b",
   "metadata": {},
   "source": [
    "# Number system of computer and their conversion\n",
    "> 1 Binary number system (0,1); base = 2\n",
    "> 2 Deciman number system (0,1,2,3,4,5,6,7,8,9); base = 10\n",
    "> 3 Octal number system (0,1,2,3,4,5,6,7); base = 8\n",
    "> 4 Hexadecimal number system ( 0,1,2,3,4,5,6,7,8,9,a,b,c,d,e,f); base = 16"
   ]
  },
  {
   "cell_type": "code",
   "execution_count": 24,
   "id": "f37eb341-eb73-49e7-ba47-96c05b26dd3a",
   "metadata": {},
   "outputs": [
    {
     "name": "stdout",
     "output_type": "stream",
     "text": [
      "0b1100100\n"
     ]
    }
   ],
   "source": [
    "a=100\n",
    "print(bin(a))    # Binary Number System"
   ]
  },
  {
   "cell_type": "code",
   "execution_count": 25,
   "id": "f8047bca-134e-4eaf-8c31-a241480452ff",
   "metadata": {},
   "outputs": [
    {
     "name": "stdout",
     "output_type": "stream",
     "text": [
      "0o144\n"
     ]
    }
   ],
   "source": [
    "print(oct(a))   # Octal Number System"
   ]
  },
  {
   "cell_type": "code",
   "execution_count": 27,
   "id": "1f0c9934-5191-4d9f-a352-27fa5b1242aa",
   "metadata": {},
   "outputs": [
    {
     "name": "stdout",
     "output_type": "stream",
     "text": [
      "0x64\n"
     ]
    }
   ],
   "source": [
    "print(hex(a))    # hexadecimal number system \n",
    "                 # use for makind IP Address and Define Colour Code"
   ]
  },
  {
   "cell_type": "code",
   "execution_count": 30,
   "id": "eed2ca1a-5260-4007-9e03-f9ed9fbe0947",
   "metadata": {},
   "outputs": [
    {
     "ename": "SyntaxError",
     "evalue": "leading zeros in decimal integer literals are not permitted; use an 0o prefix for octal integers (3148150318.py, line 1)",
     "output_type": "error",
     "traceback": [
      "\u001b[1;36m  Cell \u001b[1;32mIn[30], line 1\u001b[1;36m\u001b[0m\n\u001b[1;33m    a=0016\u001b[0m\n\u001b[1;37m      ^\u001b[0m\n\u001b[1;31mSyntaxError\u001b[0m\u001b[1;31m:\u001b[0m leading zeros in decimal integer literals are not permitted; use an 0o prefix for octal integers\n"
     ]
    }
   ],
   "source": [
    "a=0016"
   ]
  },
  {
   "cell_type": "code",
   "execution_count": null,
   "id": "6c8b36d3-63a7-4a38-b891-e3b5fbb089c5",
   "metadata": {},
   "outputs": [],
   "source": []
  }
 ],
 "metadata": {
  "kernelspec": {
   "display_name": "Python 3 (ipykernel)",
   "language": "python",
   "name": "python3"
  },
  "language_info": {
   "codemirror_mode": {
    "name": "ipython",
    "version": 3
   },
   "file_extension": ".py",
   "mimetype": "text/x-python",
   "name": "python",
   "nbconvert_exporter": "python",
   "pygments_lexer": "ipython3",
   "version": "3.11.3"
  }
 },
 "nbformat": 4,
 "nbformat_minor": 5
}
