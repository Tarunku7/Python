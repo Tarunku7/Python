{
 "cells": [
  {
   "cell_type": "markdown",
   "id": "acd97f52-fa2a-4056-9e8c-f2cea072fff5",
   "metadata": {},
   "source": [
    "# if else"
   ]
  },
  {
   "cell_type": "code",
   "execution_count": 2,
   "id": "ba9b6925-49ee-4b5b-bae2-f1ef4dc522e3",
   "metadata": {},
   "outputs": [
    {
     "name": "stdin",
     "output_type": "stream",
     "text": [
      "Enter your destination: Lucknow\n"
     ]
    }
   ],
   "source": [
    "user=input(\"Enter your destination:\")"
   ]
  },
  {
   "cell_type": "code",
   "execution_count": 7,
   "id": "141dd68c-bf6b-4a5a-b741-4939f2b46658",
   "metadata": {},
   "outputs": [
    {
     "name": "stdout",
     "output_type": "stream",
     "text": [
      "I am going to lucknow\n"
     ]
    }
   ],
   "source": [
    "if user == \"Lucknow\" :\n",
    "    print(\"I am going to lucknow\")    "
   ]
  },
  {
   "cell_type": "code",
   "execution_count": 9,
   "id": "e34ecd8d-ec97-4aad-9596-50d451749ac1",
   "metadata": {},
   "outputs": [
    {
     "name": "stdin",
     "output_type": "stream",
     "text": [
      "Enter your destination: goa\n"
     ]
    },
    {
     "name": "stdout",
     "output_type": "stream",
     "text": [
      "go to hell\n"
     ]
    }
   ],
   "source": [
    "user = input(\"Enter your destination:\")\n",
    "if user==\"lucknow\":\n",
    "    print(\"i am going to lucknow\")\n",
    "else:\n",
    "    print(\"go to hell\")"
   ]
  },
  {
   "cell_type": "code",
   "execution_count": 14,
   "id": "3a3b4c35-1da8-4d15-8472-9968be58e7de",
   "metadata": {},
   "outputs": [
    {
     "name": "stdin",
     "output_type": "stream",
     "text": [
      " Enter your age: 18.1\n"
     ]
    },
    {
     "name": "stdout",
     "output_type": "stream",
     "text": [
      "you have permission to  take decision\n"
     ]
    }
   ],
   "source": [
    "age = eval(input(\" Enter your age:\"))\n",
    "if age>18:\n",
    "    print(\"you have permission to  take decision\")\n",
    "else:\n",
    "    print(\"you have not permission to take decision\")"
   ]
  },
  {
   "cell_type": "code",
   "execution_count": 19,
   "id": "9cc45944-0f68-400c-9914-39695c51e262",
   "metadata": {},
   "outputs": [
    {
     "name": "stdin",
     "output_type": "stream",
     "text": [
      " enter your marks: 59.9\n"
     ]
    },
    {
     "name": "stdout",
     "output_type": "stream",
     "text": [
      "you can not take admission in govt. college\n"
     ]
    }
   ],
   "source": [
    "marks = eval(input(\" enter your marks:\"))\n",
    "if marks>=60:\n",
    "    print(\"you can take admission in govt. college\")\n",
    "else:\n",
    "    print(\"you can not take admission in govt. college\")\n",
    "             "
   ]
  },
  {
   "cell_type": "code",
   "execution_count": 22,
   "id": "356d6228-707d-40d1-8578-578f1f6f30e3",
   "metadata": {},
   "outputs": [
    {
     "name": "stdin",
     "output_type": "stream",
     "text": [
      "enter you number: 3\n"
     ]
    },
    {
     "name": "stdout",
     "output_type": "stream",
     "text": [
      "number is odd\n"
     ]
    }
   ],
   "source": [
    "num1 = int(input(\"enter you number:\"))\n",
    "if num1%2==0:\n",
    "    print(\"number is even\")\n",
    "else:\n",
    "    print(\"number is odd\")"
   ]
  },
  {
   "cell_type": "code",
   "execution_count": 24,
   "id": "8f72df44-311f-4e0f-a5d1-c2c27d48a60d",
   "metadata": {},
   "outputs": [
    {
     "name": "stdin",
     "output_type": "stream",
     "text": [
      "enter you number: 30\n"
     ]
    },
    {
     "name": "stdout",
     "output_type": "stream",
     "text": [
      "number is even\n",
      "number is positive\n"
     ]
    }
   ],
   "source": [
    "num1 = int(input(\"enter you number:\"))\n",
    "if num1%2==0:\n",
    "    print(\"number is even\")\n",
    "    if num1<0:\n",
    "        print(\"number is negative\")\n",
    "    else:\n",
    "        print(\"number is positive\")\n",
    "else:\n",
    "    print(\"number is odd\")"
   ]
  },
  {
   "cell_type": "code",
   "execution_count": 27,
   "id": "be32d31a-a578-4be8-bb8b-2bfbe7e734cd",
   "metadata": {},
   "outputs": [
    {
     "name": "stdin",
     "output_type": "stream",
     "text": [
      "enter you number: -22\n"
     ]
    },
    {
     "name": "stdout",
     "output_type": "stream",
     "text": [
      "number is even\n",
      "number is negative\n"
     ]
    }
   ],
   "source": [
    "num1 = int(input(\"enter you number:\"))\n",
    "if num1%2==0:\n",
    "    print(\"number is even\")\n",
    "    if num1<0:\n",
    "        print(\"number is negative\")\n",
    "    else:\n",
    "        print(\"number is positive\")\n",
    "else:\n",
    "    print(\"number is odd\")\n",
    "    if num1<0:\n",
    "        print(\"number is negative\")\n",
    "    else:\n",
    "        print(\"number is positive\")"
   ]
  },
  {
   "cell_type": "markdown",
   "id": "b9de39ce-a528-46a8-803a-b571f44d3fec",
   "metadata": {},
   "source": [
    "# f (string)"
   ]
  },
  {
   "cell_type": "code",
   "execution_count": 28,
   "id": "2e0f8e26-52dc-4e07-bbe1-b68a6b1b08ae",
   "metadata": {},
   "outputs": [],
   "source": [
    "name=\"Tarun\"\n",
    "contact=7503001779"
   ]
  },
  {
   "cell_type": "code",
   "execution_count": 29,
   "id": "603ed04d-83a2-4da2-bd31-7de8541c827c",
   "metadata": {},
   "outputs": [
    {
     "name": "stdout",
     "output_type": "stream",
     "text": [
      "I am Tarun and contact number is 7503001779\n"
     ]
    }
   ],
   "source": [
    "print(\"I am Tarun and contact number is 7503001779\")"
   ]
  },
  {
   "cell_type": "code",
   "execution_count": 33,
   "id": "ffe79f4a-3f17-4fc1-ac0d-69b6ea98c11a",
   "metadata": {},
   "outputs": [
    {
     "name": "stdout",
     "output_type": "stream",
     "text": [
      "I am Tarun and contact no is 7503001779\n"
     ]
    }
   ],
   "source": [
    "print(F\"I am {name} and contact no is {contact}\")"
   ]
  },
  {
   "cell_type": "code",
   "execution_count": 38,
   "id": "d84b7e2c-9fb2-49db-8f21-3fe403251f5d",
   "metadata": {},
   "outputs": [
    {
     "name": "stdin",
     "output_type": "stream",
     "text": [
      "Enter your name: Tarun\n",
      "Enter you number: 765345\n"
     ]
    },
    {
     "name": "stdout",
     "output_type": "stream",
     "text": [
      "I am Tarun and contact no is 765345\n"
     ]
    }
   ],
   "source": [
    "name = input(\"Enter your name:\")                # That statement is not safe due to SQL injection hacking\n",
    "contact = int(input(\"Enter you number:\"))\n",
    "print(f\"I am {name} and contact no is {contact}\")"
   ]
  },
  {
   "cell_type": "code",
   "execution_count": 40,
   "id": "1b8682fb-9b60-43f3-b0a6-2ee1dc385ecd",
   "metadata": {},
   "outputs": [
    {
     "name": "stdin",
     "output_type": "stream",
     "text": [
      "Enter your name: tarun\n",
      "Enter you number: 8374\n"
     ]
    },
    {
     "name": "stdout",
     "output_type": "stream",
     "text": [
      "i am tarun and contact no is 8374\n"
     ]
    }
   ],
   "source": [
    "name = input(\"Enter your name:\")               \n",
    "contact = int(input(\"Enter you number:\"))\n",
    "print(\"i am {} and contact no is {}\".format(name,contact))"
   ]
  },
  {
   "cell_type": "code",
   "execution_count": 42,
   "id": "2f92c243-227d-4593-9325-9fc0ffdb0e44",
   "metadata": {},
   "outputs": [
    {
     "name": "stdin",
     "output_type": "stream",
     "text": [
      "Enter your name: Tarun\n",
      "Enter you number: 7654\n"
     ]
    },
    {
     "name": "stdout",
     "output_type": "stream",
     "text": [
      "i am Tarun and contact no is 7654\n"
     ]
    }
   ],
   "source": [
    "name = input(\"Enter your name:\")               \n",
    "contact = int(input(\"Enter you number:\"))\n",
    "print(\"i am {1} and contact no is {0}\".format(contact,name))"
   ]
  },
  {
   "cell_type": "markdown",
   "id": "7cac0c9e-a36b-493c-bf3e-8acd347540ae",
   "metadata": {},
   "source": [
    "# if elif else"
   ]
  },
  {
   "cell_type": "code",
   "execution_count": 1,
   "id": "07a1f261-9667-452e-b6db-fcd00712f788",
   "metadata": {},
   "outputs": [
    {
     "name": "stdin",
     "output_type": "stream",
     "text": [
      " tarun\n"
     ]
    }
   ],
   "source": [
    "user = input()\n"
   ]
  },
  {
   "cell_type": "code",
   "execution_count": 4,
   "id": "4e29a2fd-cd52-468f-8974-ec78a2474863",
   "metadata": {},
   "outputs": [
    {
     "name": "stdin",
     "output_type": "stream",
     "text": [
      "Choose option A\n"
     ]
    },
    {
     "name": "stdout",
     "output_type": "stream",
     "text": [
      "You choose option A\n"
     ]
    }
   ],
   "source": [
    "user=input(\"Choose option\")\n",
    "if user==\"A\":\n",
    "    print(\"You choose option A\")"
   ]
  },
  {
   "cell_type": "code",
   "execution_count": 7,
   "id": "f5ead3dc-d181-4276-896e-1a9fe21af5ba",
   "metadata": {},
   "outputs": [
    {
     "name": "stdout",
     "output_type": "stream",
     "text": [
      "you choose option A\n"
     ]
    }
   ],
   "source": [
    "if user == \"A\":\n",
    "    print(\"you choose option A\")\n",
    "elif user == \"B\":\n",
    "    print(\"You choose option B\")\n",
    "elif user == \"c\":\n",
    "    print(\"you choose option C\")\n",
    "elif user == \"D\":\n",
    "    print(\"you choose option D\")\n",
    "else:\n",
    "    print(\"kindly choose valid option\")"
   ]
  },
  {
   "cell_type": "code",
   "execution_count": 10,
   "id": "9db655a0-cbe9-411a-82a0-3b03585b9ebe",
   "metadata": {},
   "outputs": [
    {
     "name": "stdin",
     "output_type": "stream",
     "text": [
      "Choose your option: F\n"
     ]
    },
    {
     "name": "stdout",
     "output_type": "stream",
     "text": [
      "kindly choose valid option\n"
     ]
    }
   ],
   "source": [
    "user = input(\"Choose your option:\")\n",
    "if user == \"A\":\n",
    "    print(\"you choose option A\")\n",
    "elif user == \"B\":\n",
    "    print(\"You choose option B\")\n",
    "elif user == \"c\":\n",
    "    print(\"you choose option C\")\n",
    "elif user == \"D\":\n",
    "    print(\"you choose option D\")\n",
    "else:\n",
    "    print(\"kindly choose valid option\")"
   ]
  },
  {
   "cell_type": "code",
   "execution_count": 17,
   "id": "38ee17ec-5a1c-4add-a239-3ae6d3ef9465",
   "metadata": {},
   "outputs": [
    {
     "name": "stdin",
     "output_type": "stream",
     "text": [
      "Choose your option: c\n"
     ]
    },
    {
     "name": "stdout",
     "output_type": "stream",
     "text": [
      "you choose option C\n"
     ]
    }
   ],
   "source": [
    "user = input(\"Choose your option:\") .capitalize()\n",
    "if user == \"A\":\n",
    "    print(\"you choose option A\")\n",
    "elif user == \"B\":\n",
    "    print(\"You choose option B\")\n",
    "elif user == \"C\":\n",
    "    print(\"you choose option C\")\n",
    "elif user == \"D\":\n",
    "    print(\"you choose option D\")\n",
    "else:\n",
    "    print(\"kindly choose valid option\")"
   ]
  },
  {
   "cell_type": "markdown",
   "id": "adc17df4-41b3-416d-b759-b3b8105473b5",
   "metadata": {},
   "source": [
    "# Neste if elif else\n",
    "\n",
    "> Bringing 'if else' inside 'if elif else'"
   ]
  },
  {
   "cell_type": "code",
   "execution_count": 25,
   "id": "66c0ac5f-53c1-4679-a3b3-bdaba64b6aa8",
   "metadata": {},
   "outputs": [
    {
     "name": "stdin",
     "output_type": "stream",
     "text": [
      "choose age: 7\n"
     ]
    },
    {
     "name": "stdout",
     "output_type": "stream",
     "text": [
      "I will Give you a Book\n"
     ]
    }
   ],
   "source": [
    "age = int(input(\"choose age:\"))\n",
    "if age >0 and age<=18:\n",
    "    print(\"I will Give you a Book\")\n",
    "elif age>18 and age<=60:\n",
    "    print(\"I will give you a vehicle\")\n",
    "elif age>60 and age<=100:\n",
    "    print(\"I will give you a pention\")\n",
    "else:\n",
    "    print(\"i will give you poision\")"
   ]
  },
  {
   "cell_type": "code",
   "execution_count": 32,
   "id": "4ea018b2-2256-4e6a-9908-9335e7ebfff4",
   "metadata": {},
   "outputs": [
    {
     "name": "stdin",
     "output_type": "stream",
     "text": [
      "choose age: 34\n"
     ]
    },
    {
     "name": "stdout",
     "output_type": "stream",
     "text": [
      "I will give you a Classic Car\n"
     ]
    }
   ],
   "source": [
    "# nested if elif else\n",
    "\n",
    "age = int(input(\"choose age:\"))\n",
    "if age >0 and age<=18:\n",
    "    if age >0 and age<=5:\n",
    "        print(\"I will give you Chocolate\")\n",
    "    elif age>5 and age<=15:\n",
    "        print(\"I will give you Cycle\")\n",
    "    else:\n",
    "        print(\"I will Give you a Book\")\n",
    "elif age>18 and age<=60:\n",
    "    if age>18 and age<=15:\n",
    "        print(\"I will give you a Sports Bike\")\n",
    "    else:\n",
    "        print(\"I will give you a Classic Car\")\n",
    "elif age>60 and age<=100:\n",
    "    print(\"I will give you a pention\")\n",
    "else:\n",
    "    print(\"i will give you poision\")"
   ]
  },
  {
   "cell_type": "code",
   "execution_count": 34,
   "id": "d959c2d3-69db-40ff-af03-ad73ddc30294",
   "metadata": {},
   "outputs": [
    {
     "name": "stdin",
     "output_type": "stream",
     "text": [
      "choose age: 34.9\n"
     ]
    },
    {
     "name": "stdout",
     "output_type": "stream",
     "text": [
      "I will give you a Sports Bike\n"
     ]
    }
   ],
   "source": [
    "age = eval(input(\"choose age:\"))\n",
    "if age >0 and age<=18:\n",
    "    if age >0 and age<=5:\n",
    "        print(\"I will give you Chocolate\")\n",
    "    elif age>5 and age<=15:\n",
    "        print(\"I will give you Cycle\")\n",
    "    else:\n",
    "        print(\"I will Give you a Book\")\n",
    "elif age>18 and age<=60:\n",
    "    if age>18 and age<=35:\n",
    "        print(\"I will give you a Sports Bike\")\n",
    "    else:\n",
    "        print(\"I will give you a Classic Car\")\n",
    "elif age>60 and age<=100:\n",
    "    print(\"I will give you a pention\")\n",
    "else:\n",
    "    print(\"i will give you poision\")"
   ]
  },
  {
   "cell_type": "markdown",
   "id": "3f477be0-5b2b-4990-9914-85aa55432009",
   "metadata": {},
   "source": [
    "# Teranary Operator  (short hand)\n"
   ]
  },
  {
   "cell_type": "code",
   "execution_count": 37,
   "id": "bd2af482-b268-45fd-93c7-9ee33a8ced3b",
   "metadata": {},
   "outputs": [
    {
     "name": "stdin",
     "output_type": "stream",
     "text": [
      "Enter your Destination: Goa\n"
     ]
    },
    {
     "name": "stdout",
     "output_type": "stream",
     "text": [
      "I am going to Goa\n"
     ]
    }
   ],
   "source": [
    "user = input(\"Enter your Destination:\")\n",
    "if user == \"Goa\":\n",
    "    print(\"I am going to Goa\")\n",
    "else:\n",
    "    print(\"I go to Hell\")"
   ]
  },
  {
   "cell_type": "code",
   "execution_count": 48,
   "id": "032d8dc2-6fa1-42ba-a871-648433aa28c8",
   "metadata": {},
   "outputs": [
    {
     "name": "stdout",
     "output_type": "stream",
     "text": [
      "i am going to Goa\n"
     ]
    }
   ],
   "source": [
    "print(\"i am going to Goa\") if user==\"goa\" else print(\"Go to Hell\")"
   ]
  },
  {
   "cell_type": "code",
   "execution_count": 50,
   "id": "43d459d2-72f3-49a8-8f6d-86b6fa13214c",
   "metadata": {},
   "outputs": [
    {
     "name": "stdin",
     "output_type": "stream",
     "text": [
      "Enter your Destination Goa\n"
     ]
    },
    {
     "name": "stdout",
     "output_type": "stream",
     "text": [
      "i am going to Goa\n"
     ]
    }
   ],
   "source": [
    "user = input(\"Enter your Destination\")\n",
    "print(\"i am going to Goa\") if user==\"Goa\" else print(\"Go to Hell\")"
   ]
  },
  {
   "cell_type": "markdown",
   "id": "3712580b-ab97-4924-85bd-48685bf7c237",
   "metadata": {},
   "source": [
    "# Teranary Operator\n",
    "> Teranary operator work with only 'if else' and not work with 'if elif else'.\n",
    "\n",
    "> if's blog should conain only single statement Not more than.\n",
    "    or else's blog shoud also only single statement.\n",
    "\n",
    "> shouldn't the either statement be their."
   ]
  },
  {
   "cell_type": "code",
   "execution_count": 53,
   "id": "6378af44-9602-486a-a020-fdbaa26af6ba",
   "metadata": {},
   "outputs": [
    {
     "name": "stdin",
     "output_type": "stream",
     "text": [
      "Enter a number 4\n"
     ]
    },
    {
     "name": "stdout",
     "output_type": "stream",
     "text": [
      "Number is Negative\n"
     ]
    }
   ],
   "source": [
    "num1=int(input(\"Enter a number\"))\n",
    "if num1%2==0:\n",
    "    print(\"Number is Negative\")\n",
    "else:\n",
    "    print(\"number is positive\")"
   ]
  },
  {
   "cell_type": "code",
   "execution_count": 62,
   "id": "d55a2bf8-7d42-4efa-b09d-fe5e776fcde5",
   "metadata": {},
   "outputs": [
    {
     "name": "stdin",
     "output_type": "stream",
     "text": [
      "Enter a number 5\n"
     ]
    },
    {
     "name": "stdout",
     "output_type": "stream",
     "text": [
      "number is positive\n"
     ]
    }
   ],
   "source": [
    "num1=int(input(\"Enter a number\"))\n",
    "if num1%2!=0:\n",
    "    if num1<0:\n",
    "        print(\"Number is Negative\")\n",
    "    else:\n",
    "        print(\"number is positive\")\n",
    "else:\n",
    "    if num1<0:\n",
    "        print(\"Number is Negative\")\n",
    "    else:\n",
    "        print(\"Number is positive\")"
   ]
  },
  {
   "cell_type": "code",
   "execution_count": 63,
   "id": "6842378f-9c86-48a5-be1e-305a9a569680",
   "metadata": {},
   "outputs": [
    {
     "name": "stdout",
     "output_type": "stream",
     "text": [
      "Number is positive\n"
     ]
    }
   ],
   "source": [
    "(print(\"number is negative\") if num1<0 else print(\"number is positive\")) if num1%2==0 else (print(\"number is negative\") if num1<0 else print(\"Number is positive\"))"
   ]
  },
  {
   "cell_type": "code",
   "execution_count": null,
   "id": "7186ac10-7b79-4e2a-bd42-1272b48690dd",
   "metadata": {},
   "outputs": [],
   "source": []
  }
 ],
 "metadata": {
  "kernelspec": {
   "display_name": "Python 3 (ipykernel)",
   "language": "python",
   "name": "python3"
  },
  "language_info": {
   "codemirror_mode": {
    "name": "ipython",
    "version": 3
   },
   "file_extension": ".py",
   "mimetype": "text/x-python",
   "name": "python",
   "nbconvert_exporter": "python",
   "pygments_lexer": "ipython3",
   "version": "3.11.3"
  }
 },
 "nbformat": 4,
 "nbformat_minor": 5
}
