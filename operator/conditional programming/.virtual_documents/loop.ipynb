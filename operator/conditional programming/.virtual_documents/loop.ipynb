

















range(10)


range(0,10)


for i in range(10):     # i is initialise
    print(i)


for i in range(0,10):
    print(i, sep=" ",end=", " )


a=[1,2,3,4,5,6,7,8,9]


print(a)


for i in a:
    print(i)


b=[1,2,3,4,5]
for i in b:
    print(i)


for i in [1,2,3,4,5]:
    print(i)


for i in range(10):
    print(i)


for i in range(0,10,2):
    print(i, end=" ")


for i in range(0,10,2):
    print(i,"Hello World",sep=" & ",end="")


for i in range (0,10,3):
    print(i,"I am Tarun")


for i in range(1,6):
    print(i, "tarun")


for i in range(6,0,-1):
    print(i, "tarun")


for i in range(0,6):
    print((6-i), "tarun")


for i in "Tarun":     
    print(i)


a=frozenset()
dir(a)


for i in {1,2,3,4,5}:
    print(i)


for i in (1,2,3,4,5):
    print(i)


for i in frozenset({1,2,3,4,5}):
    print(i)


for i in {1:"Tarun", 2:"Mohan", 3:"harsh"}:
    print(i)


for i in {1:"Tarun", 2:"Mohan", 3:"harsh"}.values():
    print(i)


for i in {1:"Tarun", 2:"Mohan", 3:"harsh"}.items():
    print(i)





for i in range(0,5):
    print("*"*(i+1))


print("*"*1)
print("*"*2)
print("*"*3)
print("*"*4)
print("*"*5)


print("*"*5)
print("*"*4)
print("*"*3)
print("*"*2)
print("*"*1)


for i in range(0,5):
    print("*"*(5-i))


print(" "*1+"*"*5)
print(" "*2+"*"*4)
print(" "*3+"*"*3)
print(" "*4+"*"*2)
print(" "*5+"*"*1)


for i in range(0,5):
    print(" "*i+"* "*(5-i))


print(" "*5+"*"*1)
print(" "*4+"*"*2)
print(" "*3+"*"*3)
print(" "*2+"*"*4)
print(" "*1+"*"*5)


for i in range(0,5):
    print(" "*(4-i)+"* "*(i+1))


for i in range(0,9):
    if i<5:
        print(" "*(i)+"*"*(5-i))
    else:
        print(" "*(8-i)+"*"*(i-3))


for i in range(0,9):
    if i<5:
        print("*"*(5-i))
    else:
        print("*"*(i-3))
    





print("*"*1)
print("*"*2)
print("*"*3)
print("*"*4)
print("*"*5)
print("*"*4)
print("*"*3)
print("*"*2)
print("*"*1)


for i in range(0,9):
    if i<5:
        print("*"*(i+1))
    else:
        print("*"*(9-i))


for i in range(0,9):
    if i<5:
        print(" "*i+"* "*(5-i))
    else:
        print(" "*(8-i)+"* "*(i-3))


for i in range(0,9):
    if i<5:
        print(" "*(4-i)+"* "*(1+i))
    else:
        print(" "*(i-4)+"* "*(9-i))





for i in range(5):
    for j in range(5):
        print("*",end="")
    print()


for i in range(5):
    print("*")


for i in range(5):
    print("*",end="")


for i in range(5):
    print("*",end="")
for i in range(5):
    print("*",end="")


for i in range(5):
    print("*",end="")
print()
for i in range(5):
    print("*",end="")


for i in range(1):      # work is Repetation and In Technical Term it means Retendency
    print("*",end="")
print()
for i in range(2):
    print("*",end="")       
print()
for i in range(3):
    print("*",end="")
print()
for i in range(4):
    print("*",end="")
print()
for i in range(5):
    print("*",end="")


for i in range(5):
    for j in range(i+1):
        print("*",end="")
    print()


for i in range(5):
    for j in range(5-i):
        print("*",end="")
    print()


for i in range(5):
    for j in range(5-i):
        print("*",end="")
    print()








range(10)


for i in range(10):
    print(i)


a=[]
for i in range(10):
    a.append(i)
    print(a)


a=[]
for i in range(10):
    a.append(i)
print(a)





b=set()
for i in range(10):
    b.add(i)
print(b)





c={i for i in range(10)}


print(c)


a=[1,2,3,4,5]
b=["Tarun","Mohan","sohan","Rohan","Vinay"]
for i in a,b:
    print(i)


for i in a,b:
    print(i)


a,b


a=[1,2,3,4,5]
b=["Tarun","Mohan","sohan","Rohan","Vinay"]
for i,j in a,b:
    print(i,j)


a=[1,2,3,4,5]
b=["Tarun","Mohan","sohan","Rohan","Vinay"]
for i,j in zip(a,b):
    print(i,j)


d={}   # d=dict()
a=[1,2,3,4,5]
b=["Tarun","Mohan","sohan","Rohan","Vinay"]
for i,j in zip(a,b):
    d.update({i:j})
print(d)





e={i:j for i,j in zip(a,b)}
print(e)




h={c:d for c,d in zip([11,22,33,44,55],["mann","Kumar","Rana","Dahiya","Rathi"])}
print(h)




















# Frozenset Comprehension    This is immutable data type and  not creat generater.



a=frozenset()
for i in range(10):
    a=a.union(frozenset({i}))


print(a)


a=frozenset()
for i in range(10):
    a=a.union({i})
print(a)


a=frozenset()
for i in range(10):
    a=a.union({i})
    print(a)


a=frozenset()
a=a.union({1})
print(a)


frozenset({i for i in range(10)})








for i in range(5):
    print(i,"Hello World")


# we want 2 hello world will not be print.

for i in range(5):       # isme 'continue keyword' ke through hum jo bhe value print nai karwana cahate \n
    if i==2:             # wo print nai hoga.
        continue
    print(i,"Hello World")


for i in range(5):       # isme 'continue keyword' ke through hum jo bhe value print nai karwana cahate \n
    if i==2 or i==3:             # wo print nai hoga.
        continue
    print(i,"Hello World")



for i in range(10):       
    if i==2 or i==3 or i==7 or i==8:          
        continue
    print(i,"Hello World")


for i in range(10):       
    if i in[2,3,5,7,9]:          
        continue
    print(i,"Hello World")


for i in range(10):       
    if i in[2,3,5,7]:          
        continue
    elif i in [4,8]:
        print(i,"namaste bhai")
    else:
        print(i,"Hello World")


for i in range(10):       
    if i in[2,3,5,7,9]:          
        continue
    elif i in [4,8]:
        print(i,"namaste bhai")
    print(i,"Hello World")





for i in range(10):       
    if i==2:          
        break
    print(i,"Hello World")





num1=int(input("enter a number: "))
if num1%2==0:
    print("this no is even")
else:
    print("this no is odd",end=", ")

print("hello world")



num1=int(input("enter a number: "))
if num1%2==0:
    pass
else:
    print("this no is odd",end=", ")

print("hello world")



num1=int(input("enter a number: "))
if num1%2==0:
    
else:
    print("this no is odd",end=", ")

print("hello world")


num1=int(input("enter a number: "))
if num1%2==0:
    print("even number ",end=", ")
else:
    pass

print("hello world")


for i in range(5):
    print("hello world")
print("This is krishna")


for i in range(5):
    pass
print("This is krishna")











i=1                        # i is variable and 1 is initializer
while i<=5:                   # conditional programming
    print("hello world")
    i=i+1                     # It is increment



i=0
while i<5:
    print("*"*(i+1))
    i=i+1


a=["Krishna","Mohan","Shyam","Radhey","Murli"]
i=0
while i<5:
    print(i)
    i=i+1     # i+=1


a=["Krishna","Mohan","Shyam","Radhey","Murli"]
i=0
while i<5:
    print(a[i])
    i=i+1  


a=["Krishna","Mohan","Shyam","Radhey","Murli"]
for i in a:
    print(i)


a=["Krishna","Mohan","Shyam","Radhey","Murli"]
i=0
while i<len(a):                 # len ka use multypal value ko print karta hai ( jab unlimited value ho)
    print(a[i])
    i=i+1  


# print reverse value

a=["Krishna","Mohan","Shyam","Radhey","Murli"]
i=0
while i<len(a):                
    print(a[4-i])
    i=i+1


a=["Krishna","Mohan","Shyam","Radhey","Murli"]
i=0
while i<len(a):                
    print(i+1,a[-(i+1)],sep="=")
    i=i+1


a=["Krishna","Mohan","Shyam","Radhey","Murli"]
i=0
while i<len(a):                
    print(i+1,"=",a[-(i+1)],sep="")
    i=i+1


print(a)


a.reverse()
print(a)


b=['Krishna', 'Mohan', 'Shyam', 'Radhey', 'Murli']



b.reverse()


print(b)


a=["Krishna","Mohan","Shyam","Radhey","Murli"]
new=[]
i=0
while i<len(a):                
    new.append(a[-(i+1)])
    i=i+1

print(new)


c="KRISHNA"
c[-1::-1]


a=["Krishna","Mohan","Shyam","Radhey","Murli"]
i=0
while i<len(a):                
    print(a[-(i+1)])
    i=i+1


c=a[-1]
print(c)


a[-1][-1::-1]


a=["Krishna","Mohan","Shyam","Radhey","Murli"]
i=0
while i<len(a):                
    print(a[-(i+1)][-1::-1])
    i=i+1


a=["Krishna","Mohan","Shyam","Radhey","Murli"]
new=[]
i=0
while i<len(a):  
    e=a[-(i+1)]
    f=e[-1::-1]
    new.append(f)
    i=i+1

print(new)


a=["Krishna","Mohan","Shyam","Radhey","Murli"]
new=[]
i=0
while i<len(a):  
    new.append(a[-(i+1)][-1::-1])
    i=i+1

print(new)








print("*")
print("**")
print("***")
print("****")
print("*****")


print("*"*1)
print("*"*2)
print("*"*3)
print("*"*4)
print("*"*5)


i=1
while i<=5:
    print(i)
    i=i+1


i=0
while i<5:
    print("*"*(i+1))
    i=i+1


# convert for loop rether then while loop 
for i in range(5):
    print("*"*(i+1))
    


i=0
while i<5:
    print("*"*(5-i))
    i=i+1


i=0
while i<5:
    print(" "*(4-i)+"*"*(i+1))
    i=i+1


i=0
while i<5:
    print(" "*i+"*"*(5-i))
    i=i+1


i=1
while i<=5:
    print(" "*(5-i)+"*"*(i))
    i=i+1


print("* * * * *")
print("*       *")
print("*       *")
print("*       *")
print("* * * * *")


print("*"*5)
print("*"+" "*3+"*")
print("*"+" "*3+"*")
print("*"+" "*3+"*")
print("*"*5)


i=1
while i<=5:
    if i==1 or i==5:
        print("* "*5)
    else:
        print("*"+" "*7+"*")
    i=i+1


for i in range(5):
    if i==0 or i==4:
        print("* "*5)
    else:
        print("*"+" "*7+"*")


i=1
while i<=9:
    if i==1 or i==5 or i==9:
        print("* "*5)
    else:
        print("*"+" "*7+"*")
    i=i+1


i=1
k=1
while i<=9:
    if i==1 or i==5 or i==9:
        print("* "*5)
    elif i in [2,3,4]:
        print("*"+" "*k+"*"+" "*(6-k)+"*")
        k=k+2
    elif i in [6,7,8]:
        print("*"+" "*(k-6)+"*"+" "*(12-k)+"*")
        k=k+2        
    else:
        print("*"+" "*7+"*")
    i=i+1


i=1
k=1
while i<=9:
    if i==1 or i==5 or i==9:
        print("* "*5)
    elif i in [2,3,4]:
        print("*"+" "*k+"*"+" "*(6-k)+"*")
        k=k+2
    elif i in [6,7,8]:
        print("*"+" "*(12-k)+"*"+" "*(k-6)+"*")
        k=k+2
    else:
        print("*"+" "*7+"*")
    i=i+1


i=1
k=1
while i<=9:
    if i==1 or i==5 or i==9:
        print("* "*5)
    elif i in [2,3,4]:
        print("*"+" "*(6-k)+"*"+" "*k+"*")
        k=k+2
    elif i in [6,7,8]:
        print("*"+" "*(12-k)+"*"+" "*(k-6)+"*")
        k=k+2
    else:
        print("*"+" "*7+"*")
    i=i+1



